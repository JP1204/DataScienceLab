{
  "nbformat": 4,
  "nbformat_minor": 0,
  "metadata": {
    "colab": {
      "name": "Lab 5.ipynb",
      "provenance": [],
      "collapsed_sections": [],
      "toc_visible": true
    },
    "kernelspec": {
      "name": "python3",
      "display_name": "Python 3"
    }
  },
  "cells": [
    {
      "cell_type": "markdown",
      "metadata": {
        "id": "NFI0wBbhsK2t",
        "colab_type": "text"
      },
      "source": [
        "# Lab 5\n",
        "written by: Matthew Prinz, Jimmy Phan, Yash Parakh"
      ]
    },
    {
      "cell_type": "markdown",
      "metadata": {
        "id": "WjQF7UYC_COl",
        "colab_type": "text"
      },
      "source": [
        "## Problem 1\n",
        "\n",
        "This paper summarizes the mathematical processes involved in communnicating information from one point to another. The basic components of a communication channel include a sender, a transmitter, a channel of communication, a reciever and the reciever. Various types of data can be transmitted across such a communication channel. The true amount of information that needs to be transmitted is given the entropy of the data. Since this type of communication is stochastic process, it can be modeled using a Markov chain. "
      ]
    },
    {
      "cell_type": "markdown",
      "metadata": {
        "id": "V1PUf4rjsSeu",
        "colab_type": "text"
      },
      "source": [
        "## Problem 2"
      ]
    },
    {
      "cell_type": "code",
      "metadata": {
        "id": "nIL7UloeoNzg",
        "colab_type": "code",
        "colab": {}
      },
      "source": [
        "from bs4 import BeautifulSoup\n",
        "import requests\n",
        "import shutil"
      ],
      "execution_count": 0,
      "outputs": []
    },
    {
      "cell_type": "code",
      "metadata": {
        "id": "XxsASehRoR0Q",
        "colab_type": "code",
        "outputId": "0b11daa7-e27a-47fa-b786-d03ceb6c338c",
        "colab": {
          "base_uri": "https://localhost:8080/",
          "height": 35
        }
      },
      "source": [
        "page_info = requests.get('http://proceedings.mlr.press/v97/')\n",
        "page_info"
      ],
      "execution_count": 0,
      "outputs": [
        {
          "output_type": "execute_result",
          "data": {
            "text/plain": [
              "<Response [200]>"
            ]
          },
          "metadata": {
            "tags": []
          },
          "execution_count": 2
        }
      ]
    },
    {
      "cell_type": "code",
      "metadata": {
        "id": "B6ciOqR-oWf2",
        "colab_type": "code",
        "colab": {}
      },
      "source": [
        "soup = BeautifulSoup(page_info.text)"
      ],
      "execution_count": 0,
      "outputs": []
    },
    {
      "cell_type": "markdown",
      "metadata": {
        "id": "RJzXS5lN0k1O",
        "colab_type": "text"
      },
      "source": [
        "ONLY UNCOMMENT THE BELOW WHEN YOU RUN IT THE FIRST TIME. "
      ]
    },
    {
      "cell_type": "code",
      "metadata": {
        "id": "Sv7p_fmUpCD1",
        "colab_type": "code",
        "colab": {}
      },
      "source": [
        "# There are 773 pdfs to download.\n",
        "# Possible parallelize this for speed? very extra, but would help\n",
        "\n",
        "number_papers = 0\n",
        "\n",
        "for link in soup.find_all('a'):\n",
        "    url = link.get('href')\n",
        "    if url[-4:] == '.pdf' and 'supp' not in url:\n",
        "        response = requests.get(url, stream=True)\n",
        "        if response.status_code == 200:\n",
        "            with open(str(number_papers) + '.pdf', 'wb') as out_file:\n",
        "                response.raw.decode_content = True\n",
        "                shutil.copyfileobj(response.raw, out_file)\n",
        "        else:\n",
        "            print(f'{url} is boom')\n",
        "        number_papers += 1\n",
        "        "
      ],
      "execution_count": 0,
      "outputs": []
    },
    {
      "cell_type": "code",
      "metadata": {
        "id": "k9fhnFmRtU5O",
        "colab_type": "code",
        "outputId": "2c6436b9-4008-44f3-aa00-603a740b57f5",
        "colab": {
          "base_uri": "https://localhost:8080/",
          "height": 159
        }
      },
      "source": [
        "!pip install tika"
      ],
      "execution_count": 0,
      "outputs": [
        {
          "output_type": "stream",
          "text": [
            "Requirement already satisfied: tika in /usr/local/lib/python3.6/dist-packages (1.19)\n",
            "Requirement already satisfied: requests in /usr/local/lib/python3.6/dist-packages (from tika) (2.21.0)\n",
            "Requirement already satisfied: setuptools in /usr/local/lib/python3.6/dist-packages (from tika) (41.2.0)\n",
            "Requirement already satisfied: chardet<3.1.0,>=3.0.2 in /usr/local/lib/python3.6/dist-packages (from requests->tika) (3.0.4)\n",
            "Requirement already satisfied: idna<2.9,>=2.5 in /usr/local/lib/python3.6/dist-packages (from requests->tika) (2.8)\n",
            "Requirement already satisfied: certifi>=2017.4.17 in /usr/local/lib/python3.6/dist-packages (from requests->tika) (2019.9.11)\n",
            "Requirement already satisfied: urllib3<1.25,>=1.21.1 in /usr/local/lib/python3.6/dist-packages (from requests->tika) (1.24.3)\n"
          ],
          "name": "stdout"
        }
      ]
    },
    {
      "cell_type": "code",
      "metadata": {
        "id": "EIy56dIOsfbv",
        "colab_type": "code",
        "outputId": "3d144a82-43cb-479a-c777-edcb5a60263f",
        "colab": {
          "base_uri": "https://localhost:8080/",
          "height": 107
        }
      },
      "source": [
        "from tika import parser\n",
        "import re\n",
        "pat = re.compile(r\"([A-Za-z'-]+-\\n[A-za-z']+)|([A-Za-z'-]+)\")\n",
        "number_papers = 773\n",
        "all_words = []\n",
        "for i in range(number_papers):\n",
        "    raw = parser.from_file(str(i) + '.pdf')\n",
        "    all_words.extend(re.findall(pat, raw['content'])) \n"
      ],
      "execution_count": 0,
      "outputs": [
        {
          "output_type": "stream",
          "text": [
            "2019-10-08 19:35:24,082 [MainThread  ] [INFO ]  Retrieving http://search.maven.org/remotecontent?filepath=org/apache/tika/tika-server/1.19/tika-server-1.19.jar to /tmp/tika-server.jar.\n",
            "2019-10-08 19:35:27,282 [MainThread  ] [INFO ]  Retrieving http://search.maven.org/remotecontent?filepath=org/apache/tika/tika-server/1.19/tika-server-1.19.jar.md5 to /tmp/tika-server.jar.md5.\n",
            "2019-10-08 19:35:27,702 [MainThread  ] [WARNI]  Failed to see startup log message; retrying...\n",
            "2019-10-08 19:35:32,710 [MainThread  ] [WARNI]  Failed to see startup log message; retrying...\n"
          ],
          "name": "stderr"
        }
      ]
    },
    {
      "cell_type": "code",
      "metadata": {
        "id": "u1nNOLIwi2y5",
        "colab_type": "code",
        "colab": {}
      },
      "source": [
        "it = iter(all_words)\n",
        "all_words_cleaned = []\n",
        "for tupl in all_words:\n",
        "    if tupl[0] == '':\n",
        "        all_words_cleaned.append(tupl[1])\n",
        "    elif tupl[1] == '':\n",
        "        interrupted_word = tupl[0]\n",
        "        right_word = interrupted_word.replace('\\n', '')\n",
        "        right_word = right_word.replace('-', '')\n",
        "        all_words_cleaned.append(right_word)\n",
        "    else:\n",
        "        print(f'Tupl[0] is: {tupl[0]}. Tupl[1] is: {tupl[1]}.')"
      ],
      "execution_count": 0,
      "outputs": []
    },
    {
      "cell_type": "code",
      "metadata": {
        "id": "2HLy8cSq0FYH",
        "colab_type": "code",
        "colab": {}
      },
      "source": [
        "dict_of_words = {}\n",
        "for word in all_words_cleaned:\n",
        "    temp = word.lower()\n",
        "    if temp not in dict_of_words.keys():\n",
        "        dict_of_words[temp] = 1\n",
        "    else:\n",
        "        dict_of_words[temp] += 1\n",
        "\n",
        "sorted_d = sorted(dict_of_words.items(), key=lambda x: x[1], reverse=True)\n"
      ],
      "execution_count": 0,
      "outputs": []
    },
    {
      "cell_type": "code",
      "metadata": {
        "id": "kOydqrVP2BAr",
        "colab_type": "code",
        "outputId": "b7fa7bfc-5cb4-4711-f7c7-114de848913e",
        "colab": {
          "base_uri": "https://localhost:8080/",
          "height": 225
        }
      },
      "source": [
        "# Problem 2.1\n",
        "import nltk\n",
        "nltk.download('stopwords')\n",
        "from nltk.corpus import stopwords\n",
        "stop_words = set(stopwords.words('english'))\n",
        " \n",
        "sorted_d = dict(sorted_d)\n",
        "i = 1\n",
        "for k in sorted_d.keys():\n",
        "    if i < 11 and k not in stop_words and len(k) > 1:\n",
        "        print(f'{i}: {k} occured {dict(sorted_d)[k]} times')\n",
        "        i += 1"
      ],
      "execution_count": 0,
      "outputs": [
        {
          "output_type": "stream",
          "text": [
            "[nltk_data] Downloading package stopwords to /root/nltk_data...\n",
            "[nltk_data]   Package stopwords is already up-to-date!\n",
            "1: et occured 32561 times\n",
            "2: al occured 32443 times\n",
            "3: learning occured 25205 times\n",
            "4: model occured 15169 times\n",
            "5: data occured 13343 times\n",
            "6: algorithm occured 12114 times\n",
            "7: neural occured 10799 times\n",
            "8: function occured 10263 times\n",
            "9: training occured 10214 times\n",
            "10: set occured 10066 times\n"
          ],
          "name": "stdout"
        }
      ]
    },
    {
      "cell_type": "code",
      "metadata": {
        "id": "nrlraAMkj-25",
        "colab_type": "code",
        "outputId": "507477f6-6301-410b-d44e-702ced39baec",
        "colab": {
          "base_uri": "https://localhost:8080/",
          "height": 35
        }
      },
      "source": [
        "# Problem 2.2\n",
        "import random\n",
        "import numpy as np\n",
        "d_of_prob = {}\n",
        "total_number_words = sum(sorted_d.values())\n",
        "for k, v in sorted_d.items():\n",
        "    d_of_prob[k] = v / total_number_words\n",
        "\n",
        "population = list(d_of_prob.keys())\n",
        "weights = list(d_of_prob.values())\n",
        "pop_np = np.array(population)\n",
        "weights_np = np.array(weights)\n",
        "log_weights = np.log2(weights_np)\n",
        "print(f'H(X) is {-1*np.sum(weights_np*log_weights)}')"
      ],
      "execution_count": 0,
      "outputs": [
        {
          "output_type": "stream",
          "text": [
            "H(X) is 10.355174214701613\n"
          ],
          "name": "stdout"
        }
      ]
    },
    {
      "cell_type": "code",
      "metadata": {
        "id": "3uJQx3-1nW-J",
        "colab_type": "code",
        "outputId": "0b728ecd-4aed-43e5-f6e8-22f95dcb57b7",
        "colab": {
          "base_uri": "https://localhost:8080/",
          "height": 191
        }
      },
      "source": [
        "# Problem 2.3\n",
        "# Let's say a paragraph is about 100 words.\n",
        "random.seed(1)\n",
        "paragraph = []\n",
        "for i in range(100):\n",
        "    word = str(random.choices(population, weights))\n",
        "    # choices returns a list representation, e.g. ['in']. This splices out the ['']\n",
        "    word = word[2:-2] \n",
        "    paragraph.append(word)\n",
        "    \n",
        "for i, word in enumerate(paragraph):\n",
        "    if i % 10 == 0 and i != 0:\n",
        "        print(f'. {word} ')\n",
        "    elif i % 10 == 9 and i != 0:\n",
        "        print(word, end = '')\n",
        "    else:\n",
        "        print(word, end = ' ')"
      ],
      "execution_count": 0,
      "outputs": [
        {
          "output_type": "stream",
          "text": [
            "in citation coordinate as matrix one out comparable and the. defines \n",
            "o resnet the also losses on aka weston the. the \n",
            "org generalised w x arxiv the on such theorem. with \n",
            "with x has this the employed objective observed for. swol \n",
            "revenue a e losses correspondence conditionals arxiv poor being. learning \n",
            "journal calculation simulations same prediction the t reference training. is \n",
            "https whose initial which u parameters identify samples v. international \n",
            "the the zi gerds descent v is space ird. tensor \n",
            "via critic with some culture convex has al layer. xavier \n",
            "the mathematics heuristic tuple epoch diffusion error how models"
          ],
          "name": "stdout"
        }
      ]
    },
    {
      "cell_type": "markdown",
      "metadata": {
        "id": "cKy0ERvAWIuO",
        "colab_type": "text"
      },
      "source": [
        "## Problem 3\n",
        "\n"
      ]
    },
    {
      "cell_type": "code",
      "metadata": {
        "id": "iHhzdkqdghAT",
        "colab_type": "code",
        "colab": {}
      },
      "source": [
        "# Problem 3\n",
        "import numpy as np\n",
        "import pandas as pd\n",
        "from sklearn.datasets import make_classification\n",
        "from matplotlib import pyplot as plt\n",
        "from sklearn.linear_model import LogisticRegression\n",
        "from sklearn.linear_model import LogisticRegressionCV\n",
        "import seaborn as sns\n",
        "sns.set()\n",
        "from sklearn.model_selection import train_test_split\n",
        "from scipy.special import expit  # sigmoid function\n",
        "import warnings\n",
        "warnings.filterwarnings('ignore')"
      ],
      "execution_count": 0,
      "outputs": []
    },
    {
      "cell_type": "code",
      "metadata": {
        "id": "ULfWbUZ_qd6g",
        "colab_type": "code",
        "outputId": "c6ca6672-83d8-4c96-888b-d66aa8829eda",
        "colab": {
          "base_uri": "https://localhost:8080/",
          "height": 35
        }
      },
      "source": [
        "df = pd.read_csv(\"wells.dat\", delimiter=\" \")\n",
        "print(df.shape)\n",
        "# df2 = pd.read_stata(\"all.dta\")\n",
        "# df"
      ],
      "execution_count": 0,
      "outputs": [
        {
          "output_type": "stream",
          "text": [
            "(3020, 5)\n"
          ],
          "name": "stdout"
        }
      ]
    },
    {
      "cell_type": "code",
      "metadata": {
        "id": "iVrHgfwHqy0t",
        "colab_type": "code",
        "outputId": "cf3037df-e701-4c36-ddf8-c6d22040416b",
        "colab": {
          "base_uri": "https://localhost:8080/",
          "height": 600
        }
      },
      "source": [
        "# get only the offset term and nearest safe well\n",
        "num_features = df.shape[0]\n",
        "data = pd.DataFrame({\"offset\": np.ones(num_features), \"dist\": df['dist']})\n",
        "switch = np.array(df['switch'])\n",
        "#print(switch.shape)\n",
        "\n",
        "# fit logistic regression model\n",
        "lr = LogisticRegression().fit(data, switch)\n",
        "print(f\"Logistic Regression coef: {lr.coef_}\")\n",
        "#print(lr.coef_.shape, data.shape)\n",
        "\n",
        "# plot line for regression\n",
        "mapping = np.dot(data, lr.coef_.T)\n",
        "dist = df['dist']\n",
        "sns.scatterplot(dist, mapping.reshape(-1), s=10)\n",
        "print(\"lower distances above 0 indicating more likely to switch wells\")\n",
        "\n",
        "# plot line onto sigmoid function\n",
        "ax1, fig1 = plt.subplots()\n",
        "x = np.linspace(-2, 2, 100)\n",
        "sns.lineplot(x, expit(x))\n",
        "\n",
        "# ax2, fig2 = plt.subplots()\n",
        "sigmoid_function = expit(mapping)\n",
        "sns.scatterplot(mapping[mapping>0], expit(mapping[mapping>0]).reshape(-1))\n",
        "sns.scatterplot(mapping[mapping<=0], expit(mapping[mapping<=0].reshape(-1)))\n",
        "sns.lineplot(x, 0.5)\n",
        "print(\"split data based on probability of switching\")"
      ],
      "execution_count": 0,
      "outputs": [
        {
          "output_type": "stream",
          "text": [
            "Logistic Regression coef: [[ 0.30242737 -0.00620473]]\n",
            "lower distances above 0 indicating more likely to switch wells\n",
            "split data based on probability of switching\n"
          ],
          "name": "stdout"
        },
        {
          "output_type": "display_data",
          "data": {
            "image/png": "[encoded data removed]",
            "text/plain": [
              "<Figure size 432x288 with 1 Axes>"
            ]
          },
          "metadata": {
            "tags": []
          }
        },
        {
          "output_type": "display_data",
          "data": {
            "image/png": "[encoded data removed]",
            "text/plain": [
              "<Figure size 432x288 with 1 Axes>"
            ]
          },
          "metadata": {
            "tags": []
          }
        }
      ]
    },
    {
      "cell_type": "code",
      "metadata": {
        "id": "OaXJi4P4rK8o",
        "colab_type": "code",
        "outputId": "09bd7e06-e65a-437c-8219-9ce1cdb78152",
        "colab": {
          "base_uri": "https://localhost:8080/",
          "height": 309
        }
      },
      "source": [
        "# plot dist vs prob. of switching\n",
        "ax2, fig2 = plt.subplots()\n",
        "sns.lineplot(dist, expit(mapping).reshape(-1))"
      ],
      "execution_count": 0,
      "outputs": [
        {
          "output_type": "execute_result",
          "data": {
            "text/plain": [
              "<matplotlib.axes._subplots.AxesSubplot at 0x7efea2a310f0>"
            ]
          },
          "metadata": {
            "tags": []
          },
          "execution_count": 26
        },
        {
          "output_type": "display_data",
          "data": {
            "image/png": "[encoded data removed]",
            "text/plain": [
              "<Figure size 432x288 with 1 Axes>"
            ]
          },
          "metadata": {
            "tags": []
          }
        }
      ]
    },
    {
      "cell_type": "code",
      "metadata": {
        "id": "LBecHTkaE5w0",
        "colab_type": "code",
        "outputId": "4a23c77a-090a-49a7-fb73-14f608b3174f",
        "colab": {
          "base_uri": "https://localhost:8080/",
          "height": 69
        }
      },
      "source": [
        "print(f\"coef of distance is {lr.coef_[0][1]}\")\n",
        "print(f\"Therefore, the change in y for an additional 100 meters is {lr.coef_[0][1]*100}\")\n",
        "print(f\"By the rule-of-4, the change in probability is at most {lr.coef_[0][1]*100/4}\")"
      ],
      "execution_count": 0,
      "outputs": [
        {
          "output_type": "stream",
          "text": [
            "coef of distance is -0.0062047320281091315\n",
            "Therefore, the change in y for an additional 100 meters is -0.6204732028109131\n",
            "By the rule-of-4, the change in probability is at most -0.15511830070272828\n"
          ],
          "name": "stdout"
        }
      ]
    },
    {
      "cell_type": "code",
      "metadata": {
        "id": "Bfc8qXxDFUx2",
        "colab_type": "code",
        "outputId": "60ecf60e-9ca7-4c71-a073-458e6dd8ea2e",
        "colab": {
          "base_uri": "https://localhost:8080/",
          "height": 35
        }
      },
      "source": [
        "# add in arsenic levels to logistic regression\n",
        "data2 = data.join(df['arsenic'])\n",
        "switch = np.array(df['switch'])\n",
        "\n",
        "# fit logistic regression model\n",
        "lr = LogisticRegression().fit(data2, switch)\n",
        "print(f\"Logistic Regression coef: {lr.coef_}\")"
      ],
      "execution_count": 0,
      "outputs": [
        {
          "output_type": "stream",
          "text": [
            "Logistic Regression coef: [[ 0.00186056 -0.0089613   0.45997859]]\n"
          ],
          "name": "stdout"
        }
      ]
    },
    {
      "cell_type": "code",
      "metadata": {
        "id": "kwbMABFqGNUg",
        "colab_type": "code",
        "outputId": "41e2794a-225e-4dd9-f2af-5a63d8a33ff0",
        "colab": {
          "base_uri": "https://localhost:8080/",
          "height": 87
        }
      },
      "source": [
        "# normalize both distance and arsenic levels\n",
        "from sklearn import preprocessing\n",
        "norm_dist = preprocessing.normalize(np.array(df['dist']).reshape(1, -1))\n",
        "norm_arsenic = preprocessing.normalize(np.array(df['arsenic']).reshape(1, -1))\n",
        "switch = np.array(df['switch'])\n",
        "\n",
        "# fit linear regression on normalized data\n",
        "data_norm = pd.DataFrame({\"offset\":np.ones(num_features), \"dist\":norm_dist.reshape(num_features), \"arsenic\":norm_arsenic.reshape(num_features)})\n",
        "lr_norm = LogisticRegression().fit(data_norm, switch)\n",
        "\n",
        "print(f\"Logistic Regression coef for normalized features: {lr_norm.coef_}\")\n",
        "print(\"Based on the coefficients, the arsenic level appears to affect the prob. more\")\n",
        "\n",
        "# fit all features on the model with interaction term\n",
        "data_norm = df.loc[:, df.columns != 'switch']\n",
        "data_norm = preprocessing.normalize(data_norm.values)\n",
        "\n",
        "interaction = data_norm[:, 0]*data_norm[:, 1].T\n",
        "interaction = interaction.reshape(-1, 1)\n",
        "data_norm = np.append(data_norm, interaction, axis=1)\n",
        "\n",
        "lrCV = LogisticRegressionCV(cv=5, penalty='l2')\n",
        "lrCV.fit(data_norm, switch)\n",
        "\n",
        "print(f'\\nThe error with all the features and interaction term is {lrCV.score(data_norm, switch)}')"
      ],
      "execution_count": 0,
      "outputs": [
        {
          "output_type": "stream",
          "text": [
            "Logistic Regression coef for normalized features: [[ 0.14489328 -1.8562813   2.60912918]]\n",
            "Based on the coefficients, the arsenic level appears to affect the prob. more\n",
            "\n",
            "The error with all the features and interaction term is 0.6135761589403973\n"
          ],
          "name": "stdout"
        }
      ]
    },
    {
      "cell_type": "code",
      "metadata": {
        "id": "frKfbS8Gq18L",
        "colab_type": "code",
        "colab": {}
      },
      "source": [
        ""
      ],
      "execution_count": 0,
      "outputs": []
    },
    {
      "cell_type": "markdown",
      "metadata": {
        "id": "_iq0RRRPq0Qw",
        "colab_type": "text"
      },
      "source": [
        "## Problem 4"
      ]
    },
    {
      "cell_type": "code",
      "metadata": {
        "id": "_4ELRyVRvHRv",
        "colab_type": "code",
        "colab": {}
      },
      "source": [
        "import time\n",
        "import matplotlib.pyplot as plt\n",
        "import numpy as np\n",
        "from sklearn.datasets import fetch_openml\n",
        "from sklearn.linear_model import LogisticRegression\n",
        "from sklearn.linear_model import LogisticRegressionCV\n",
        "from sklearn.model_selection import train_test_split\n",
        "from sklearn.preprocessing import StandardScaler\n",
        "from sklearn.utils import check_random_state\n",
        "from PIL import Image"
      ],
      "execution_count": 0,
      "outputs": []
    },
    {
      "cell_type": "code",
      "metadata": {
        "id": "wEfZ-RFpvanS",
        "colab_type": "code",
        "colab": {}
      },
      "source": [
        "X, y = fetch_openml(data_id=40926, return_X_y=True)\n",
        "data = fetch_openml(data_id=40926)"
      ],
      "execution_count": 0,
      "outputs": []
    },
    {
      "cell_type": "code",
      "metadata": {
        "id": "XBVv1rcz1QBl",
        "colab_type": "code",
        "outputId": "fa7df14c-f36a-4614-d1a3-7df5fc9ce4ac",
        "colab": {
          "base_uri": "https://localhost:8080/",
          "height": 567
        }
      },
      "source": [
        "start = 111\n",
        "for i in range(5):\n",
        "    arr = data.data[294+i]\n",
        "    R = arr[0:1024].reshape(32,32)/255.0\n",
        "    G = arr[1024:2048].reshape(32,32)/255.0\n",
        "    B = arr[2048:].reshape(32,32)/255.0\n",
        "    img = np.dstack((R,G,B))\n",
        "    fig = plt.figure(figsize=(3,3))\n",
        "\n",
        "    ax = fig.add_subplot(start)\n",
        "    start += 10\n",
        "    ax.imshow(img,interpolation='bicubic')"
      ],
      "execution_count": 0,
      "outputs": [
        {
          "output_type": "display_data",
          "data": {
            "image/png": "[encoded data removed]",
            "text/plain": [
              "<Figure size 216x216 with 1 Axes>"
            ]
          },
          "metadata": {
            "tags": []
          }
        },
        {
          "output_type": "display_data",
          "data": {
            "image/png": "[encoded data removed]",
            "text/plain": [
              "<Figure size 216x216 with 1 Axes>"
            ]
          },
          "metadata": {
            "tags": []
          }
        },
        {
          "output_type": "display_data",
          "data": {
            "image/png": "[encoded data removed]",
            "text/plain": [
              "<Figure size 216x216 with 1 Axes>"
            ]
          },
          "metadata": {
            "tags": []
          }
        },
        {
          "output_type": "display_data",
          "data": {
            "image/png": "[encoded data removed]",
            "text/plain": [
              "<Figure size 216x216 with 1 Axes>"
            ]
          },
          "metadata": {
            "tags": []
          }
        },
        {
          "output_type": "display_data",
          "data": {
            "image/png": "[encoded data removed]",
            "text/plain": [
              "<Figure size 216x216 with 1 Axes>"
            ]
          },
          "metadata": {
            "tags": []
          }
        }
      ]
    },
    {
      "cell_type": "code",
      "metadata": {
        "id": "KVUQ3gTi4VMG",
        "colab_type": "code",
        "colab": {}
      },
      "source": [
        "X_train, X_test, y_train, y_test = train_test_split(X, y, test_size=0.25, random_state=42)"
      ],
      "execution_count": 0,
      "outputs": []
    },
    {
      "cell_type": "code",
      "metadata": {
        "id": "OTrusWMofgg3",
        "colab_type": "code",
        "outputId": "416b7989-a7aa-43d5-e1fb-c47a7034fd9f",
        "colab": {
          "base_uri": "https://localhost:8080/",
          "height": 35
        }
      },
      "source": [
        "t0 = time.time()\n",
        "l1_model = LogisticRegressionCV(cv=3, penalty='l1', multi_class='multinomial',solver='saga', tol = 0.1).fit(X_train, y_train)\n",
        "l2_model = LogisticRegressionCV(cv=3, penalty='l2', multi_class='multinomial',solver='saga', tol = 0.1).fit(X_train, y_train)\n",
        "\n",
        "print(f'Time taken: {time.time()-t0}')"
      ],
      "execution_count": 0,
      "outputs": [
        {
          "output_type": "stream",
          "text": [
            "Time taken: 344.9475517272949\n"
          ],
          "name": "stdout"
        }
      ]
    },
    {
      "cell_type": "code",
      "metadata": {
        "id": "5SrQrmon0WzK",
        "colab_type": "code",
        "outputId": "38c6137b-950e-4a90-ad4c-d2dc1672aa54",
        "colab": {
          "base_uri": "https://localhost:8080/",
          "height": 381
        }
      },
      "source": [
        "from sklearn.metrics import mean_squared_error\n",
        "y_pred_l1 = l1_model.predict(X_test)\n",
        "y_pred_l2 = l2_model.predict(X_test)\n",
        "mse_l1 = mean_squared_error(y_test, y_pred_l1)\n",
        "mse_l2 = mean_squared_error(y_test, y_pred_l2)\n",
        "train_error_l1 = mean_squared_error(l1_model.predict(X_train), y_train)\n",
        "train_error_l2 = mean_squared_error(l2_model.predict(X_train), y_train)\n",
        "print(f'For L1, training error = {train_error_l1}. Test error = {mse_l1}.')\n",
        "print(f'For L2 training error = {train_error_l2} Test error = {mse_l2}.')\n"
      ],
      "execution_count": 0,
      "outputs": [
        {
          "output_type": "error",
          "ename": "ValueError",
          "evalue": "ignored",
          "traceback": [
            "\u001b[0;31m---------------------------------------------------------------------------\u001b[0m",
            "\u001b[0;31mValueError\u001b[0m                                Traceback (most recent call last)",
            "\u001b[0;32m<ipython-input-47-73f2c39308f4>\u001b[0m in \u001b[0;36m<module>\u001b[0;34m()\u001b[0m\n\u001b[1;32m      1\u001b[0m \u001b[0;32mfrom\u001b[0m \u001b[0msklearn\u001b[0m\u001b[0;34m.\u001b[0m\u001b[0mmetrics\u001b[0m \u001b[0;32mimport\u001b[0m \u001b[0mmean_squared_error\u001b[0m\u001b[0;34m\u001b[0m\u001b[0;34m\u001b[0m\u001b[0m\n\u001b[1;32m      2\u001b[0m \u001b[0my_pred_l1\u001b[0m \u001b[0;34m=\u001b[0m \u001b[0ml1_model\u001b[0m\u001b[0;34m.\u001b[0m\u001b[0mpredict\u001b[0m\u001b[0;34m(\u001b[0m\u001b[0mX_test\u001b[0m\u001b[0;34m)\u001b[0m\u001b[0;34m\u001b[0m\u001b[0;34m\u001b[0m\u001b[0m\n\u001b[0;32m----> 3\u001b[0;31m \u001b[0my_pred_l2\u001b[0m \u001b[0;34m=\u001b[0m \u001b[0ml2_model\u001b[0m\u001b[0;34m.\u001b[0m\u001b[0mpredict\u001b[0m\u001b[0;34m(\u001b[0m\u001b[0mX_test\u001b[0m\u001b[0;34m)\u001b[0m\u001b[0;34m\u001b[0m\u001b[0;34m\u001b[0m\u001b[0m\n\u001b[0m\u001b[1;32m      4\u001b[0m \u001b[0mmse_l1\u001b[0m \u001b[0;34m=\u001b[0m \u001b[0mmean_squared_error\u001b[0m\u001b[0;34m(\u001b[0m\u001b[0my_test\u001b[0m\u001b[0;34m,\u001b[0m \u001b[0my_pred_l1\u001b[0m\u001b[0;34m)\u001b[0m\u001b[0;34m\u001b[0m\u001b[0;34m\u001b[0m\u001b[0m\n\u001b[1;32m      5\u001b[0m \u001b[0mmse_l2\u001b[0m \u001b[0;34m=\u001b[0m \u001b[0mmean_squared_error\u001b[0m\u001b[0;34m(\u001b[0m\u001b[0my_test\u001b[0m\u001b[0;34m,\u001b[0m \u001b[0my_pred_l2\u001b[0m\u001b[0;34m)\u001b[0m\u001b[0;34m\u001b[0m\u001b[0;34m\u001b[0m\u001b[0m\n",
            "\u001b[0;32m/usr/local/lib/python3.6/dist-packages/sklearn/linear_model/base.py\u001b[0m in \u001b[0;36mpredict\u001b[0;34m(self, X)\u001b[0m\n\u001b[1;32m    287\u001b[0m             \u001b[0mPredicted\u001b[0m \u001b[0;32mclass\u001b[0m \u001b[0mlabel\u001b[0m \u001b[0mper\u001b[0m \u001b[0msample\u001b[0m\u001b[0;34m.\u001b[0m\u001b[0;34m\u001b[0m\u001b[0;34m\u001b[0m\u001b[0m\n\u001b[1;32m    288\u001b[0m         \"\"\"\n\u001b[0;32m--> 289\u001b[0;31m         \u001b[0mscores\u001b[0m \u001b[0;34m=\u001b[0m \u001b[0mself\u001b[0m\u001b[0;34m.\u001b[0m\u001b[0mdecision_function\u001b[0m\u001b[0;34m(\u001b[0m\u001b[0mX\u001b[0m\u001b[0;34m)\u001b[0m\u001b[0;34m\u001b[0m\u001b[0;34m\u001b[0m\u001b[0m\n\u001b[0m\u001b[1;32m    290\u001b[0m         \u001b[0;32mif\u001b[0m \u001b[0mlen\u001b[0m\u001b[0;34m(\u001b[0m\u001b[0mscores\u001b[0m\u001b[0;34m.\u001b[0m\u001b[0mshape\u001b[0m\u001b[0;34m)\u001b[0m \u001b[0;34m==\u001b[0m \u001b[0;36m1\u001b[0m\u001b[0;34m:\u001b[0m\u001b[0;34m\u001b[0m\u001b[0;34m\u001b[0m\u001b[0m\n\u001b[1;32m    291\u001b[0m             \u001b[0mindices\u001b[0m \u001b[0;34m=\u001b[0m \u001b[0;34m(\u001b[0m\u001b[0mscores\u001b[0m \u001b[0;34m>\u001b[0m \u001b[0;36m0\u001b[0m\u001b[0;34m)\u001b[0m\u001b[0;34m.\u001b[0m\u001b[0mastype\u001b[0m\u001b[0;34m(\u001b[0m\u001b[0mnp\u001b[0m\u001b[0;34m.\u001b[0m\u001b[0mint\u001b[0m\u001b[0;34m)\u001b[0m\u001b[0;34m\u001b[0m\u001b[0;34m\u001b[0m\u001b[0m\n",
            "\u001b[0;32m/usr/local/lib/python3.6/dist-packages/sklearn/linear_model/base.py\u001b[0m in \u001b[0;36mdecision_function\u001b[0;34m(self, X)\u001b[0m\n\u001b[1;32m    268\u001b[0m         \u001b[0;32mif\u001b[0m \u001b[0mX\u001b[0m\u001b[0;34m.\u001b[0m\u001b[0mshape\u001b[0m\u001b[0;34m[\u001b[0m\u001b[0;36m1\u001b[0m\u001b[0;34m]\u001b[0m \u001b[0;34m!=\u001b[0m \u001b[0mn_features\u001b[0m\u001b[0;34m:\u001b[0m\u001b[0;34m\u001b[0m\u001b[0;34m\u001b[0m\u001b[0m\n\u001b[1;32m    269\u001b[0m             raise ValueError(\"X has %d features per sample; expecting %d\"\n\u001b[0;32m--> 270\u001b[0;31m                              % (X.shape[1], n_features))\n\u001b[0m\u001b[1;32m    271\u001b[0m \u001b[0;34m\u001b[0m\u001b[0m\n\u001b[1;32m    272\u001b[0m         scores = safe_sparse_dot(X, self.coef_.T,\n",
            "\u001b[0;31mValueError\u001b[0m: X has 784 features per sample; expecting 3072"
          ]
        }
      ]
    },
    {
      "cell_type": "code",
      "metadata": {
        "id": "YqxXKINbZvrV",
        "colab_type": "code",
        "colab": {}
      },
      "source": [
        "# last prob: find coefs that are close to 0. set them equal to 0. report new sparsity.\n",
        "coefs_matrix = l1_model.coef_\n",
        "total_number_of_coefs = 0\n",
        "sparsity = 0\n",
        "for coef_list in coefs_matrix:\n",
        "    total_number_of_coefs += len(coef_list)\n",
        "    i_dist = np.abs(coef_list)\n",
        "    for coef in coef_list:\n",
        "        if coef < 1e-8:\n",
        "            sparsity += 1\n",
        "print(f'We can make our solution {sparsity}-sparse, without affecting the test error too much.')"
      ],
      "execution_count": 0,
      "outputs": []
    },
    {
      "cell_type": "markdown",
      "metadata": {
        "id": "L8GaLj7IA4Z5",
        "colab_type": "text"
      },
      "source": [
        "## Problem 5"
      ]
    },
    {
      "cell_type": "code",
      "metadata": {
        "id": "8v-trvU2BAWc",
        "colab_type": "code",
        "colab": {}
      },
      "source": [
        "import time\n",
        "import matplotlib.pyplot as plt\n",
        "import numpy as np\n",
        "from sklearn.datasets import fetch_openml\n",
        "from sklearn.linear_model import LogisticRegression\n",
        "from sklearn.linear_model import LogisticRegressionCV\n",
        "from sklearn.model_selection import train_test_split\n",
        "from sklearn.preprocessing import StandardScaler\n",
        "from sklearn.utils import check_random_state\n",
        "from PIL import Image"
      ],
      "execution_count": 0,
      "outputs": []
    },
    {
      "cell_type": "code",
      "metadata": {
        "id": "ntFojlvYBFDd",
        "colab_type": "code",
        "colab": {}
      },
      "source": [
        "X, y = fetch_openml(data_id=554, return_X_y=True)"
      ],
      "execution_count": 0,
      "outputs": []
    },
    {
      "cell_type": "code",
      "metadata": {
        "id": "wiY_hwdntfAu",
        "colab_type": "code",
        "outputId": "205a05d5-aa10-4f29-80d1-36ea35ec2701",
        "colab": {
          "base_uri": "https://localhost:8080/",
          "height": 287
        }
      },
      "source": [
        "# one of the training images\n",
        "dim = 28\n",
        "im = X[0].reshape(dim, dim)\n",
        "plt.gray()\n",
        "plt.imshow(im)"
      ],
      "execution_count": 0,
      "outputs": [
        {
          "output_type": "execute_result",
          "data": {
            "text/plain": [
              "<matplotlib.image.AxesImage at 0x7f7a63fddcc0>"
            ]
          },
          "metadata": {
            "tags": []
          },
          "execution_count": 8
        },
        {
          "output_type": "display_data",
          "data": {
            "image/png": "[encoded data removed]",
            "text/plain": [
              "<Figure size 432x288 with 1 Axes>"
            ]
          },
          "metadata": {
            "tags": []
          }
        }
      ]
    },
    {
      "cell_type": "code",
      "metadata": {
        "id": "Dw7x-pr3smxw",
        "colab_type": "code",
        "colab": {}
      },
      "source": [
        "X_train, X_test, y_train, y_test = train_test_split(X, y, test_size=0.14, random_state=42)"
      ],
      "execution_count": 0,
      "outputs": []
    },
    {
      "cell_type": "code",
      "metadata": {
        "id": "Kd-pSu0AtA1v",
        "colab_type": "code",
        "outputId": "0770df73-3842-4fe0-e8a2-d4561d0dacb2",
        "colab": {
          "base_uri": "https://localhost:8080/",
          "height": 35
        }
      },
      "source": [
        "t0 = time.time()\n",
        "l1_model = LogisticRegressionCV(cv=3, penalty='l1', multi_class='multinomial',solver='saga', tol = 0.1).fit(X_train, y_train)\n",
        "print(f'Time taken: {time.time()-t0}')"
      ],
      "execution_count": 0,
      "outputs": [
        {
          "output_type": "stream",
          "text": [
            "Time taken: 234.23250126838684\n"
          ],
          "name": "stdout"
        }
      ]
    },
    {
      "cell_type": "code",
      "metadata": {
        "colab_type": "code",
        "outputId": "9a5dc701-8a34-43ff-f53d-345ae48a8cc2",
        "id": "QUv36QrINxQN",
        "colab": {
          "base_uri": "https://localhost:8080/",
          "height": 52
        }
      },
      "source": [
        "from sklearn.metrics import mean_squared_error\n",
        "from sklearn.metrics import accuracy_score\n",
        "y_pred = l1_model.predict(X_test)\n",
        "print(f'Test error is: {mean_squared_error(y_test, y_pred)}. Training error is: {mean_squared_error(l1_model.predict(X_train), y_train)}.')\n",
        "print(f'Accuracy is: {accuracy_score(y_test, l1_model.predict(X_test))}')"
      ],
      "execution_count": 0,
      "outputs": [
        {
          "output_type": "stream",
          "text": [
            "Test error is: 1.313845525966738. Training error is: 1.148573896576355.\n",
            "Accuracy is: 0.9209264360779512\n"
          ],
          "name": "stdout"
        }
      ]
    },
    {
      "cell_type": "code",
      "metadata": {
        "id": "lBzL_BJaswHy",
        "colab_type": "code",
        "outputId": "c969446c-c2e4-40d9-f34f-eadf522dcec6",
        "colab": {
          "base_uri": "https://localhost:8080/",
          "height": 35
        }
      },
      "source": [
        "# last prob: find coefs that are close to 0. set them equal to 0. report new sparsity.\n",
        "coefs_matrix = l1_model.coef_\n",
        "total_number_of_coefs = 0\n",
        "sparsity = 0\n",
        "for coef_list in coefs_matrix:\n",
        "    total_number_of_coefs += len(coef_list)\n",
        "    i_dist = np.abs(coef_list)\n",
        "    for coef in coef_list:\n",
        "        if coef < 1e-8:\n",
        "            sparsity += 1\n",
        "print(f'We can make our solution {sparsity}-sparse, without affecting the test error too much.')"
      ],
      "execution_count": 0,
      "outputs": [
        {
          "output_type": "stream",
          "text": [
            "We can make our solution 4904-sparse, without affecting the test error too much.\n"
          ],
          "name": "stdout"
        }
      ]
    },
    {
      "cell_type": "code",
      "metadata": {
        "id": "VdAQDW8wukQN",
        "colab_type": "code",
        "outputId": "55798874-cbaa-45f4-ad2f-d01e649b3147",
        "colab": {
          "base_uri": "https://localhost:8080/",
          "height": 1000
        }
      },
      "source": [
        "print(l1_model.coef_)\n",
        "\n",
        "# show the coefficients as an \"image\"\n",
        "for i in range(10):\n",
        "  im = l1_model.coef_[i].reshape(dim, dim)\n",
        "  plt.gray()\n",
        "  plt.imshow(im)\n",
        "  plt.show()"
      ],
      "execution_count": 0,
      "outputs": [
        {
          "output_type": "stream",
          "text": [
            "[[0. 0. 0. ... 0. 0. 0.]\n",
            " [0. 0. 0. ... 0. 0. 0.]\n",
            " [0. 0. 0. ... 0. 0. 0.]\n",
            " ...\n",
            " [0. 0. 0. ... 0. 0. 0.]\n",
            " [0. 0. 0. ... 0. 0. 0.]\n",
            " [0. 0. 0. ... 0. 0. 0.]]\n"
          ],
          "name": "stdout"
        },
        {
          "output_type": "display_data",
          "data": {
            "image/png": "[encoded data removed]",
            "text/plain": [
              "<Figure size 432x288 with 1 Axes>"
            ]
          },
          "metadata": {
            "tags": []
          }
        },
        {
          "output_type": "display_data",
          "data": {
            "image/png": "[encoded data removed]",
            "text/plain": [
              "<Figure size 432x288 with 1 Axes>"
            ]
          },
          "metadata": {
            "tags": []
          }
        },
        {
          "output_type": "display_data",
          "data": {
            "image/png": "[encoded data removed]",
            "text/plain": [
              "<Figure size 432x288 with 1 Axes>"
            ]
          },
          "metadata": {
            "tags": []
          }
        },
        {
          "output_type": "display_data",
          "data": {
            "image/png": "[encoded data removed]",
            "text/plain": [
              "<Figure size 432x288 with 1 Axes>"
            ]
          },
          "metadata": {
            "tags": []
          }
        },
        {
          "output_type": "display_data",
          "data": {
            "image/png": "[encoded data removed]",
            "text/plain": [
              "<Figure size 432x288 with 1 Axes>"
            ]
          },
          "metadata": {
            "tags": []
          }
        },
        {
          "output_type": "display_data",
          "data": {
            "image/png": "[encoded data removed]",
            "text/plain": [
              "<Figure size 432x288 with 1 Axes>"
            ]
          },
          "metadata": {
            "tags": []
          }
        },
        {
          "output_type": "display_data",
          "data": {
            "image/png": "[encoded data removed]",
            "text/plain": [
              "<Figure size 432x288 with 1 Axes>"
            ]
          },
          "metadata": {
            "tags": []
          }
        },
        {
          "output_type": "display_data",
          "data": {
            "image/png": "[encoded data removed]",
            "text/plain": [
              "<Figure size 432x288 with 1 Axes>"
            ]
          },
          "metadata": {
            "tags": []
          }
        },
        {
          "output_type": "display_data",
          "data": {
            "image/png": "[encoded data removed]",
            "text/plain": [
              "<Figure size 432x288 with 1 Axes>"
            ]
          },
          "metadata": {
            "tags": []
          }
        },
        {
          "output_type": "display_data",
          "data": {
            "image/png": "[encoded data removed]",
            "text/plain": [
              "<Figure size 432x288 with 1 Axes>"
            ]
          },
          "metadata": {
            "tags": []
          }
        }
      ]
    },
    {
      "cell_type": "code",
      "metadata": {
        "id": "mWGQDhdgPCgz",
        "colab_type": "code",
        "colab": {}
      },
      "source": [
        ""
      ],
      "execution_count": 0,
      "outputs": []
    }
  ]
}
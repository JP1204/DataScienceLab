{
 "cells": [
  {
   "cell_type": "markdown",
   "metadata": {
    "colab_type": "text",
    "id": "44cpoqwg71qs"
   },
   "source": [
    "# Lab 7"
   ]
  },
  {
   "cell_type": "markdown",
   "metadata": {
    "colab_type": "text",
    "id": "suedHR-j74Io"
   },
   "source": [
    "## Problem 1: Revisiting Logistic Regression and MNIST"
   ]
  },
  {
   "cell_type": "markdown",
   "metadata": {
    "colab_type": "text",
    "id": "uP45_fn2GaX0"
   },
   "source": [
    "### From previous attempts\n"
   ]
  },
  {
   "cell_type": "markdown",
   "metadata": {
    "colab_type": "text",
    "id": "YXVjW8DDGmLy"
   },
   "source": [
    "Shows & saves the parameter grid from before. Please don't rerun this section.\n",
    "\n",
    "\n"
   ]
  },
  {
   "cell_type": "code",
   "execution_count": 0,
   "metadata": {
    "colab": {
     "base_uri": "https://localhost:8080/",
     "height": 364
    },
    "colab_type": "code",
    "id": "hD_ApdFMGWB0",
    "outputId": "2ff40651-9502-4b5b-9003-65d91a2e4070"
   },
   "outputs": [
    {
     "data": {
      "text/plain": [
       "GridSearchCV(cv=5, error_score='raise-deprecating',\n",
       "             estimator=RandomForestClassifier(bootstrap=True, class_weight=None,\n",
       "                                              criterion='gini', max_depth=None,\n",
       "                                              max_features='auto',\n",
       "                                              max_leaf_nodes=None,\n",
       "                                              min_impurity_decrease=0.0,\n",
       "                                              min_impurity_split=None,\n",
       "                                              min_samples_leaf=1,\n",
       "                                              min_samples_split=2,\n",
       "                                              min_weight_fraction_leaf=0.0,\n",
       "                                              n_estimators='warn', n_jobs=None,\n",
       "                                              oob_score=False,\n",
       "                                              random_state=None, verbose=0,\n",
       "                                              warm_start=False),\n",
       "             iid='warn', n_jobs=None,\n",
       "             param_grid=[{'criterion': ['gini', 'entropy'],\n",
       "                          'max_features': ['sqrt'],\n",
       "                          'n_estimators': [20, 25, 50, 100]}],\n",
       "             pre_dispatch='2*n_jobs', refit=True, return_train_score=False,\n",
       "             scoring='accuracy', verbose=0)"
      ]
     },
     "execution_count": 42,
     "metadata": {
      "tags": []
     },
     "output_type": "execute_result"
    }
   ],
   "source": [
    "skl_clf"
   ]
  },
  {
   "cell_type": "markdown",
   "metadata": {
    "colab_type": "text",
    "id": "xw7yA_eaG2JU"
   },
   "source": [
    "GridSearchCV(cv=5, error_score='raise-deprecating',\n",
    "             estimator=RandomForestClassifier(bootstrap=True, class_weight=None,\n",
    "                                              criterion='gini', max_depth=None,\n",
    "                                              max_features='auto',\n",
    "                                              max_leaf_nodes=None,\n",
    "                                              min_impurity_decrease=0.0,\n",
    "                                              min_impurity_split=None,\n",
    "                                              min_samples_leaf=1,\n",
    "                                              min_samples_split=2,\n",
    "                                              min_weight_fraction_leaf=0.0,\n",
    "                                              n_estimators='warn', n_jobs=None,\n",
    "                                              oob_score=False,\n",
    "                                              random_state=None, verbose=0,\n",
    "                                              warm_start=False),\n",
    "             iid='warn', n_jobs=None,\n",
    "             param_grid=[{'criterion': ['gini', 'entropy'],\n",
    "                          'max_features': ['sqrt'],\n",
    "                          'n_estimators': [20, 25, 50, 100]}],\n",
    "             pre_dispatch='2*n_jobs', refit=True, return_train_score=False,\n",
    "             scoring='accuracy', verbose=0)"
   ]
  },
  {
   "cell_type": "code",
   "execution_count": 0,
   "metadata": {
    "colab": {
     "base_uri": "https://localhost:8080/",
     "height": 347
    },
    "colab_type": "code",
    "id": "e68FgBBuGeBb",
    "outputId": "285e5c82-fd05-4e56-eb4c-84140ebd03c9"
   },
   "outputs": [
    {
     "data": {
      "text/plain": [
       "<bound method BaseEstimator.get_params of GridSearchCV(cv=5, error_score='raise-deprecating',\n",
       "             estimator=RandomForestClassifier(bootstrap=True, class_weight=None,\n",
       "                                              criterion='gini', max_depth=None,\n",
       "                                              max_features='auto',\n",
       "                                              max_leaf_nodes=None,\n",
       "                                              min_impurity_decrease=0.0,\n",
       "                                              min_impurity_split=None,\n",
       "                                              min_samples_leaf=1,\n",
       "                                              min_samples_split=2,\n",
       "                                              min_weight_fraction_leaf=0.0,\n",
       "                                              n_estimators='warn', n_jobs=None,\n",
       "                                              oob_score=False,\n",
       "                                              random_state=None, verbose=0,\n",
       "                                              warm_start=False),\n",
       "             iid='warn', n_jobs=None,\n",
       "             param_grid=[{'criterion': ['gini'], 'max_features': ['sqrt'],\n",
       "                          'n_estimators': [500, 600, 750, 900, 1000]}],\n",
       "             pre_dispatch='2*n_jobs', refit=True, return_train_score=False,\n",
       "             scoring='accuracy', verbose=0)>"
      ]
     },
     "execution_count": 43,
     "metadata": {
      "tags": []
     },
     "output_type": "execute_result"
    }
   ],
   "source": [
    "skl_clf2.get_params"
   ]
  },
  {
   "cell_type": "markdown",
   "metadata": {
    "colab_type": "text",
    "id": "z1dNWShQG5mD"
   },
   "source": [
    "<bound method BaseEstimator.get_params of GridSearchCV(cv=5, error_score='raise-deprecating',\n",
    "             estimator=RandomForestClassifier(bootstrap=True, class_weight=None,\n",
    "                                              criterion='gini', max_depth=None,\n",
    "                                              max_features='auto',\n",
    "                                              max_leaf_nodes=None,\n",
    "                                              min_impurity_decrease=0.0,\n",
    "                                              min_impurity_split=None,\n",
    "                                              min_samples_leaf=1,\n",
    "                                              min_samples_split=2,\n",
    "                                              min_weight_fraction_leaf=0.0,\n",
    "                                              n_estimators='warn', n_jobs=None,\n",
    "                                              oob_score=False,\n",
    "                                              random_state=None, verbose=0,\n",
    "                                              warm_start=False),\n",
    "             iid='warn', n_jobs=None,\n",
    "             param_grid=[{'criterion': ['gini'], 'max_features': ['sqrt'],\n",
    "                          'n_estimators': [500, 600, 750, 900, 1000]}],\n",
    "             pre_dispatch='2*n_jobs', refit=True, return_train_score=False,\n",
    "             scoring='accuracy', verbose=0)>"
   ]
  },
  {
   "cell_type": "code",
   "execution_count": 0,
   "metadata": {
    "colab": {
     "base_uri": "https://localhost:8080/",
     "height": 121
    },
    "colab_type": "code",
    "id": "I-c3FLC-GZKE",
    "outputId": "fb802f49-318a-40e1-c588-a90887a57a7c"
   },
   "outputs": [
    {
     "data": {
      "text/plain": [
       "<bound method LGBMModel.get_params of LGBMClassifier(boosting_type='gbdt', class_weight=None, colsample_bytree=1.0,\n",
       "               importance_type='split', learning_rate=0.1, max_depth=-1,\n",
       "               min_child_samples=20, min_child_weight=0.001, min_split_gain=0.0,\n",
       "               n_estimators=100, n_jobs=-1, num_leaves=31, objective=None,\n",
       "               random_state=None, reg_alpha=0.0, reg_lambda=0.0, silent=True,\n",
       "               subsample=1.0, subsample_for_bin=200000, subsample_freq=0)>"
      ]
     },
     "execution_count": 45,
     "metadata": {
      "tags": []
     },
     "output_type": "execute_result"
    }
   ],
   "source": [
    "lgb_clf.get_params"
   ]
  },
  {
   "cell_type": "markdown",
   "metadata": {
    "colab_type": "text",
    "id": "3FZ_tLJCHDS3"
   },
   "source": [
    "<bound method LGBMModel.get_params of LGBMClassifier(boosting_type='gbdt', class_weight=None, colsample_bytree=1.0,\n",
    "               importance_type='split', learning_rate=0.1, max_depth=-1,\n",
    "               min_child_samples=20, min_child_weight=0.001, min_split_gain=0.0,\n",
    "               n_estimators=100, n_jobs=-1, num_leaves=31, objective=None,\n",
    "               random_state=None, reg_alpha=0.0, reg_lambda=0.0, silent=True,\n",
    "               subsample=1.0, subsample_for_bin=200000, subsample_freq=0)>"
   ]
  },
  {
   "cell_type": "code",
   "execution_count": 0,
   "metadata": {
    "colab": {
     "base_uri": "https://localhost:8080/",
     "height": 329
    },
    "colab_type": "code",
    "id": "HJzIalQjGi2C",
    "outputId": "86f569b3-3554-482a-b201-325cc79bbfd2"
   },
   "outputs": [
    {
     "data": {
      "text/plain": [
       "<bound method BaseEstimator.get_params of GridSearchCV(cv=5, error_score='raise-deprecating',\n",
       "             estimator=LGBMClassifier(boosting_type='gbdt', class_weight=None,\n",
       "                                      colsample_bytree=1.0,\n",
       "                                      importance_type='split',\n",
       "                                      learning_rate=0.1, max_depth=-1,\n",
       "                                      min_child_samples=20,\n",
       "                                      min_child_weight=0.001,\n",
       "                                      min_split_gain=0.0, n_estimators=100,\n",
       "                                      n_jobs=-1, num_leaves=31, objective=None,\n",
       "                                      random_state=None, reg_alpha=0.0,\n",
       "                                      reg_lambda=0.0, silent=True,\n",
       "                                      subsample=1.0, subsample_for_bin=200000,\n",
       "                                      subsample_freq=0),\n",
       "             iid='warn', n_jobs=None,\n",
       "             param_grid={'max_depth': [3, 4, 5, 6, -1],\n",
       "                         'num_leaves': [7, 15, 31, 63]},\n",
       "             pre_dispatch='2*n_jobs', refit=True, return_train_score=False,\n",
       "             scoring='accuracy', verbose=0)>"
      ]
     },
     "execution_count": 46,
     "metadata": {
      "tags": []
     },
     "output_type": "execute_result"
    }
   ],
   "source": [
    "lgb_clf2.get_params"
   ]
  },
  {
   "cell_type": "markdown",
   "metadata": {
    "colab_type": "text",
    "id": "MRzJuoN4HFWb"
   },
   "source": [
    "<bound method BaseEstimator.get_params of GridSearchCV(cv=5, error_score='raise-deprecating',\n",
    "             estimator=LGBMClassifier(boosting_type='gbdt', class_weight=None,\n",
    "                                      colsample_bytree=1.0,\n",
    "                                      importance_type='split',\n",
    "                                      learning_rate=0.1, max_depth=-1,\n",
    "                                      min_child_samples=20,\n",
    "                                      min_child_weight=0.001,\n",
    "                                      min_split_gain=0.0, n_estimators=100,\n",
    "                                      n_jobs=-1, num_leaves=31, objective=None,\n",
    "                                      random_state=None, reg_alpha=0.0,\n",
    "                                      reg_lambda=0.0, silent=True,\n",
    "                                      subsample=1.0, subsample_for_bin=200000,\n",
    "                                      subsample_freq=0),\n",
    "             iid='warn', n_jobs=None,\n",
    "             param_grid={'max_depth': [3, 4, 5, 6, -1],\n",
    "                         'num_leaves': [7, 15, 31, 63]},\n",
    "             pre_dispatch='2*n_jobs', refit=True, return_train_score=False,\n",
    "             scoring='accuracy', verbose=0)>"
   ]
  },
  {
   "cell_type": "markdown",
   "metadata": {
    "colab_type": "text",
    "id": "w8174WNAGtjs"
   },
   "source": [
    "### SKLearn Models\n"
   ]
  },
  {
   "cell_type": "code",
   "execution_count": 1,
   "metadata": {
    "colab": {
     "base_uri": "https://localhost:8080/",
     "height": 683
    },
    "colab_type": "code",
    "id": "DEAsOsWNXGeA",
    "outputId": "b6f0a34a-b6d0-4b9a-8e65-5588f28ee13f"
   },
   "outputs": [
    {
     "name": "stdout",
     "output_type": "stream",
     "text": [
      "# Tuning hyper-parameters for accuracy\n",
      "\n",
      "Best parameters set found on development set:\n",
      "\n",
      "{'criterion': 'gini', 'max_features': 'sqrt', 'n_estimators': 1000}\n",
      "\n",
      "Grid scores on development set:\n",
      "\n",
      "0.969 (+/-0.003) for {'criterion': 'gini', 'max_features': 'sqrt', 'n_estimators': 500}\n",
      "0.969 (+/-0.003) for {'criterion': 'gini', 'max_features': 'sqrt', 'n_estimators': 600}\n",
      "0.969 (+/-0.002) for {'criterion': 'gini', 'max_features': 'sqrt', 'n_estimators': 750}\n",
      "0.969 (+/-0.003) for {'criterion': 'gini', 'max_features': 'sqrt', 'n_estimators': 900}\n",
      "0.969 (+/-0.003) for {'criterion': 'gini', 'max_features': 'sqrt', 'n_estimators': 1000}\n",
      "\n",
      "Detailed classification report:\n",
      "\n",
      "The model is trained on the full development set.\n",
      "The scores are computed on the full evaluation set.\n",
      "\n",
      "              precision    recall  f1-score   support\n",
      "\n",
      "           0       0.99      0.99      0.99      1714\n",
      "           1       0.99      0.99      0.99      1977\n",
      "           2       0.95      0.97      0.96      1761\n",
      "           3       0.96      0.95      0.96      1806\n",
      "           4       0.96      0.97      0.97      1587\n",
      "           5       0.97      0.96      0.97      1607\n",
      "           6       0.98      0.98      0.98      1761\n",
      "           7       0.97      0.96      0.97      1878\n",
      "           8       0.96      0.95      0.96      1657\n",
      "           9       0.95      0.95      0.95      1752\n",
      "\n",
      "    accuracy                           0.97     17500\n",
      "   macro avg       0.97      0.97      0.97     17500\n",
      "weighted avg       0.97      0.97      0.97     17500\n",
      "\n",
      "\n",
      "Total time taken: 6367.689007759094\n"
     ]
    }
   ],
   "source": [
    "from sklearn.ensemble import RandomForestClassifier\n",
    "from sklearn import datasets\n",
    "from sklearn.model_selection import train_test_split\n",
    "from sklearn.model_selection import GridSearchCV\n",
    "from sklearn.metrics import classification_report\n",
    "from sklearn.datasets import fetch_openml\n",
    "import time\n",
    "\n",
    "t0 = time.time()\n",
    "X, y = fetch_openml(data_id=554, return_X_y=True)\n",
    "X_train, X_test, y_train, y_test = train_test_split(X, y, test_size=0.25, random_state=42)\n",
    "# Hyperparameters to tune via GridSearchCV for RFC\n",
    "# 1) # trees 2) Loss function 3) Depth 4) Regularization 5) |S| - regularization doesn't exist for classifier tree\n",
    "tuned_parameters = [{'n_estimators': [500, 600, 750, 900, 1000], 'max_features': ['sqrt'], 'criterion': ['gini']}]\n",
    "scores = ['accuracy']\n",
    "for score in scores:\n",
    "    print(\"# Tuning hyper-parameters for %s\" % score)\n",
    "    print()\n",
    "    rfc = RandomForestClassifier()\n",
    "    skl_clf3 = GridSearchCV(rfc, tuned_parameters, cv=5,\n",
    "                       scoring=score)\n",
    "    skl_clf3.fit(X_train, y_train)\n",
    "\n",
    "    print(\"Best parameters set found on development set:\")\n",
    "    print()\n",
    "    print(skl_clf3.best_params_)\n",
    "    print()\n",
    "    print(\"Grid scores on development set:\")\n",
    "    print()\n",
    "    means = skl_clf3.cv_results_['mean_test_score']\n",
    "    stds = skl_clf3.cv_results_['std_test_score']\n",
    "    for mean, std, params in zip(means, stds, skl_clf3.cv_results_['params']):\n",
    "        print(\"%0.3f (+/-%0.03f) for %r\"\n",
    "              % (mean, std * 2, params))\n",
    "    print()\n",
    "\n",
    "    print(\"Detailed classification report:\")\n",
    "    print()\n",
    "    print(\"The model is trained on the full development set.\")\n",
    "    print(\"The scores are computed on the full evaluation set.\")\n",
    "    print()\n",
    "    y_true, y_pred = y_test, skl_clf3.predict(X_test)\n",
    "    print(classification_report(y_true, y_pred))\n",
    "    print()\n",
    "print(f'Total time taken: {time.time()-t0}') "
   ]
  },
  {
   "cell_type": "markdown",
   "metadata": {
    "colab_type": "text",
    "id": "vXzTOG_NHcGT"
   },
   "source": [
    "### LightGBM Models"
   ]
  },
  {
   "cell_type": "code",
   "execution_count": 0,
   "metadata": {
    "colab": {
     "base_uri": "https://localhost:8080/",
     "height": 312
    },
    "colab_type": "code",
    "id": "fMozh4rqmmIl",
    "outputId": "872dbc43-8e3e-4960-a836-0b2b9ca0a758"
   },
   "outputs": [
    {
     "name": "stdout",
     "output_type": "stream",
     "text": [
      "              precision    recall  f1-score   support\n",
      "\n",
      "           0       0.99      0.98      0.99      1714\n",
      "           1       0.98      0.99      0.98      1977\n",
      "           2       0.96      0.97      0.96      1761\n",
      "           3       0.96      0.95      0.96      1806\n",
      "           4       0.96      0.97      0.97      1587\n",
      "           5       0.98      0.97      0.97      1607\n",
      "           6       0.98      0.98      0.98      1761\n",
      "           7       0.97      0.97      0.97      1878\n",
      "           8       0.96      0.96      0.96      1657\n",
      "           9       0.95      0.95      0.95      1752\n",
      "\n",
      "    accuracy                           0.97     17500\n",
      "   macro avg       0.97      0.97      0.97     17500\n",
      "weighted avg       0.97      0.97      0.97     17500\n",
      "\n"
     ]
    }
   ],
   "source": [
    "import lightgbm as lgb\n",
    "from lightgbm import LGBMClassifier\n",
    "lgb_clf = LGBMClassifier().fit(X_train, y_train) # out of the box LGBM classifier\n",
    "print(classification_report(y_test, lgb_clf.predict(X_test)))"
   ]
  },
  {
   "cell_type": "code",
   "execution_count": 0,
   "metadata": {
    "colab": {
     "base_uri": "https://localhost:8080/",
     "height": 936
    },
    "colab_type": "code",
    "id": "ZljOWWWqcZal",
    "outputId": "f00e4103-79a7-49c0-ab64-cb5594ced5fb"
   },
   "outputs": [
    {
     "name": "stdout",
     "output_type": "stream",
     "text": [
      "# Tuning hyper-parameters for accuracy\n",
      "\n",
      "Best parameters set found on development set:\n",
      "\n",
      "{'max_depth': -1, 'num_leaves': 63}\n",
      "\n",
      "Grid scores on development set:\n",
      "\n",
      "0.931 (+/-0.002) for {'max_depth': 3, 'num_leaves': 7}\n",
      "0.933 (+/-0.002) for {'max_depth': 3, 'num_leaves': 15}\n",
      "0.933 (+/-0.002) for {'max_depth': 3, 'num_leaves': 31}\n",
      "0.933 (+/-0.002) for {'max_depth': 3, 'num_leaves': 63}\n",
      "0.939 (+/-0.003) for {'max_depth': 4, 'num_leaves': 7}\n",
      "0.952 (+/-0.002) for {'max_depth': 4, 'num_leaves': 15}\n",
      "0.952 (+/-0.001) for {'max_depth': 4, 'num_leaves': 31}\n",
      "0.952 (+/-0.001) for {'max_depth': 4, 'num_leaves': 63}\n",
      "0.940 (+/-0.002) for {'max_depth': 5, 'num_leaves': 7}\n",
      "0.957 (+/-0.003) for {'max_depth': 5, 'num_leaves': 15}\n",
      "0.962 (+/-0.004) for {'max_depth': 5, 'num_leaves': 31}\n",
      "0.963 (+/-0.003) for {'max_depth': 5, 'num_leaves': 63}\n",
      "0.940 (+/-0.002) for {'max_depth': 6, 'num_leaves': 7}\n",
      "0.959 (+/-0.003) for {'max_depth': 6, 'num_leaves': 15}\n",
      "0.966 (+/-0.002) for {'max_depth': 6, 'num_leaves': 31}\n",
      "0.967 (+/-0.004) for {'max_depth': 6, 'num_leaves': 63}\n",
      "0.940 (+/-0.002) for {'max_depth': -1, 'num_leaves': 7}\n",
      "0.961 (+/-0.002) for {'max_depth': -1, 'num_leaves': 15}\n",
      "0.970 (+/-0.002) for {'max_depth': -1, 'num_leaves': 31}\n",
      "0.972 (+/-0.003) for {'max_depth': -1, 'num_leaves': 63}\n",
      "\n",
      "Detailed classification report:\n",
      "\n",
      "The model is trained on the full development set.\n",
      "The scores are computed on the full evaluation set.\n",
      "\n",
      "              precision    recall  f1-score   support\n",
      "\n",
      "           0       0.99      0.98      0.98      1714\n",
      "           1       0.99      0.98      0.99      1977\n",
      "           2       0.96      0.97      0.97      1761\n",
      "           3       0.97      0.96      0.96      1806\n",
      "           4       0.97      0.98      0.97      1587\n",
      "           5       0.98      0.97      0.97      1607\n",
      "           6       0.98      0.98      0.98      1761\n",
      "           7       0.97      0.98      0.97      1878\n",
      "           8       0.96      0.96      0.96      1657\n",
      "           9       0.96      0.96      0.96      1752\n",
      "\n",
      "    accuracy                           0.97     17500\n",
      "   macro avg       0.97      0.97      0.97     17500\n",
      "weighted avg       0.97      0.97      0.97     17500\n",
      "\n",
      "\n",
      "Total time taken: 15548.137683153152\n"
     ]
    }
   ],
   "source": [
    "tuned_parameters = {'num_leaves': [7, 15, 31, 63], 'max_depth': [3, 4, 5, 6, -1]}\n",
    "scores = ['accuracy']\n",
    "for score in scores:\n",
    "    print(\"# Tuning hyper-parameters for %s\" % score)\n",
    "    print()\n",
    "    lgb_clf2 = LGBMClassifier()\n",
    "    lgb_clf2 = GridSearchCV(lgb_clf2, tuned_parameters, cv=5,\n",
    "                       scoring=score)\n",
    "    lgb_clf2.fit(X_train, y_train)\n",
    "\n",
    "    print(\"Best parameters set found on development set:\")\n",
    "    print()\n",
    "    print(lgb_clf2.best_params_)\n",
    "    print()\n",
    "    print(\"Grid scores on development set:\")\n",
    "    print()\n",
    "    means = lgb_clf2.cv_results_['mean_test_score']\n",
    "    stds = lgb_clf2.cv_results_['std_test_score']\n",
    "    for mean, std, params in zip(means, stds, lgb_clf2.cv_results_['params']):\n",
    "        print(\"%0.3f (+/-%0.03f) for %r\"\n",
    "              % (mean, std * 2, params))\n",
    "    print()\n",
    "\n",
    "    print(\"Detailed classification report:\")\n",
    "    print()\n",
    "    print(\"The model is trained on the full development set.\")\n",
    "    print(\"The scores are computed on the full evaluation set.\")\n",
    "    print()\n",
    "    y_true, y_pred = y_test, lgb_clf2.predict(X_test)\n",
    "    print(classification_report(y_true, y_pred))\n",
    "    print()\n",
    "print(f'Total time taken: {time.time()-t0}') "
   ]
  },
  {
   "cell_type": "markdown",
   "metadata": {
    "colab_type": "text",
    "id": "p1K-ZCoRHnYD"
   },
   "source": [
    "### Results"
   ]
  },
  {
   "cell_type": "code",
   "execution_count": 0,
   "metadata": {
    "colab": {
     "base_uri": "https://localhost:8080/",
     "height": 69
    },
    "colab_type": "code",
    "id": "tIlvHMMNdYO0",
    "outputId": "066cd642-2d2c-4fa6-a359-d25448f7223b"
   },
   "outputs": [
    {
     "name": "stdout",
     "output_type": "stream",
     "text": [
      "SKLearn classifier 1: 0.9669714285714286. Params: {'criterion': 'gini', 'max_features': 'sqrt', 'n_estimators': 100}\n",
      "SKLearn classifier 2: 0.9681714285714286. Params: {'criterion': 'gini', 'max_features': 'sqrt', 'n_estimators': 500}\n",
      "Grid search tuned LGBM classifier 2: 0.9724571428571429. Params: {'max_depth': -1, 'num_leaves': 63}\n"
     ]
    }
   ],
   "source": [
    "print(f'SKLearn classifier 1: {accuracy_score(y_true, skl_clf.predict(X_test))}. Params: {skl_clf.best_params_}') # ~10 minutes I think, capped n_estimators at 100\n",
    "print(f'SKLearn classifier 2: {accuracy_score(y_true, skl_clf2.predict(X_test))}. Params: {skl_clf2.best_params_}') # 10 < time < 20 minutes\n",
    "print(f'Out of the box LGBM classifier 1: {accuracy_score(y_true, lgb_clf.predict(X_test))}. Params: {lgb_clf.get_params}') # Fairly fast, ~ 1min\n",
    "print(f'Grid search tuned LGBM classifier 2: {accuracy_score(y_true, lgb_clf2.predict(X_test))}. Params: {lgb_clf2.best_params_}') # took: 15548.137683153152 seconds. "
   ]
  },
  {
   "cell_type": "code",
   "execution_count": 0,
   "metadata": {
    "colab": {},
    "colab_type": "code",
    "id": "Z_gjdafCHSGa"
   },
   "outputs": [],
   "source": [
    "print(f'SKLearn classifier 3: {accuracy_score(y_true, skl_clf3.predict(X_test))}. Params: {skl_clf3.best_params_}') "
   ]
  },
  {
   "cell_type": "markdown",
   "metadata": {
    "colab_type": "text",
    "id": "odAJveO7FYFN"
   },
   "source": [
    "This saves the output of the above. I changed the params and didn't save the specific code blocks. Note that for 1 and 2 the n_estimators was CAPPED at 100/500 respectively, so it had not seen more estimators! Similary for num_leaves in LGBM classifier.\n",
    "\n",
    "1.  SKLearn classifier 1: 0.9669714285714286. Params: {'criterion': 'gini', 'max_features': 'sqrt', 'n_estimators': 100}\n",
    "2.   SKLearn classifier 2: 0.9681714285714286. Params: {'criterion': 'gini', 'max_features': 'sqrt', 'n_estimators': 500}\n",
    "3.   \n",
    "4.   Grid search tuned LGBM classifier 2: 0.9724571428571429. Params: {'max_depth': -1, 'num_leaves': 63}\n",
    "\n"
   ]
  },
  {
   "cell_type": "markdown",
   "metadata": {
    "colab_type": "text",
    "id": "WAp9UFEPkgoI"
   },
   "source": [
    "The best hyperparameters we got were 63 leaves and a completely filled out max depth."
   ]
  },
  {
   "cell_type": "markdown",
   "metadata": {
    "colab_type": "text",
    "id": "w_iYtby479CY"
   },
   "source": [
    "## Problem 2: Revisting CIFAR-10"
   ]
  },
  {
   "cell_type": "code",
   "execution_count": 0,
   "metadata": {
    "colab": {},
    "colab_type": "code",
    "id": "TVldWj53erie"
   },
   "outputs": [],
   "source": [
    "import numpy as np\n",
    "import pandas as pd\n",
    "from sklearn.model_selection import train_test_split\n",
    "from sklearn.ensemble import RandomForestClassifier\n",
    "from sklearn.model_selection import GridSearchCV\n",
    "from sklearn.metrics import classification_report\n",
    "from sklearn.datasets import fetch_openml"
   ]
  },
  {
   "cell_type": "code",
   "execution_count": 0,
   "metadata": {
    "colab": {
     "base_uri": "https://localhost:8080/",
     "height": 34
    },
    "colab_type": "code",
    "id": "aO26ZRKQ7Xk0",
    "outputId": "92256f64-1c54-409d-cdab-8dc0ab89b602"
   },
   "outputs": [
    {
     "name": "stdout",
     "output_type": "stream",
     "text": [
      "(20000, 3072) (20000,)\n"
     ]
    }
   ],
   "source": [
    "X, y = fetch_openml(data_id=40926, return_X_y=True)\n",
    "X_train, X_test, y_train, y_test = train_test_split(X, y)"
   ]
  },
  {
   "cell_type": "code",
   "execution_count": 0,
   "metadata": {
    "colab": {
     "base_uri": "https://localhost:8080/",
     "height": 1000
    },
    "colab_type": "code",
    "id": "Bi4AqrgBD26l",
    "outputId": "dc70c7e6-a1a8-41ba-fd74-4e9d6e665c63"
   },
   "outputs": [
    {
     "name": "stdout",
     "output_type": "stream",
     "text": [
      "Fitting 5 folds for each of 8 candidates, totalling 40 fits\n",
      "[CV] criterion=gini, max_features=sqrt, n_estimators=50 ..............\n"
     ]
    },
    {
     "name": "stderr",
     "output_type": "stream",
     "text": [
      "[Parallel(n_jobs=1)]: Using backend SequentialBackend with 1 concurrent workers.\n"
     ]
    },
    {
     "name": "stdout",
     "output_type": "stream",
     "text": [
      "[CV]  criterion=gini, max_features=sqrt, n_estimators=50, score=0.407, total=  27.4s\n",
      "[CV] criterion=gini, max_features=sqrt, n_estimators=50 ..............\n"
     ]
    },
    {
     "name": "stderr",
     "output_type": "stream",
     "text": [
      "[Parallel(n_jobs=1)]: Done   1 out of   1 | elapsed:   27.4s remaining:    0.0s\n"
     ]
    },
    {
     "name": "stdout",
     "output_type": "stream",
     "text": [
      "[CV]  criterion=gini, max_features=sqrt, n_estimators=50, score=0.400, total=  26.9s\n",
      "[CV] criterion=gini, max_features=sqrt, n_estimators=50 ..............\n"
     ]
    },
    {
     "name": "stderr",
     "output_type": "stream",
     "text": [
      "[Parallel(n_jobs=1)]: Done   2 out of   2 | elapsed:   54.3s remaining:    0.0s\n"
     ]
    },
    {
     "name": "stdout",
     "output_type": "stream",
     "text": [
      "[CV]  criterion=gini, max_features=sqrt, n_estimators=50, score=0.403, total=  26.8s\n",
      "[CV] criterion=gini, max_features=sqrt, n_estimators=50 ..............\n"
     ]
    },
    {
     "name": "stderr",
     "output_type": "stream",
     "text": [
      "[Parallel(n_jobs=1)]: Done   3 out of   3 | elapsed:  1.4min remaining:    0.0s\n"
     ]
    },
    {
     "name": "stdout",
     "output_type": "stream",
     "text": [
      "[CV]  criterion=gini, max_features=sqrt, n_estimators=50, score=0.407, total=  26.8s\n",
      "[CV] criterion=gini, max_features=sqrt, n_estimators=50 ..............\n"
     ]
    },
    {
     "name": "stderr",
     "output_type": "stream",
     "text": [
      "[Parallel(n_jobs=1)]: Done   4 out of   4 | elapsed:  1.8min remaining:    0.0s\n"
     ]
    },
    {
     "name": "stdout",
     "output_type": "stream",
     "text": [
      "[CV]  criterion=gini, max_features=sqrt, n_estimators=50, score=0.409, total=  27.0s\n",
      "[CV] criterion=gini, max_features=sqrt, n_estimators=100 .............\n"
     ]
    },
    {
     "name": "stderr",
     "output_type": "stream",
     "text": [
      "[Parallel(n_jobs=1)]: Done   5 out of   5 | elapsed:  2.3min remaining:    0.0s\n"
     ]
    },
    {
     "name": "stdout",
     "output_type": "stream",
     "text": [
      "[CV]  criterion=gini, max_features=sqrt, n_estimators=100, score=0.424, total=  53.6s\n",
      "[CV] criterion=gini, max_features=sqrt, n_estimators=100 .............\n"
     ]
    },
    {
     "name": "stderr",
     "output_type": "stream",
     "text": [
      "[Parallel(n_jobs=1)]: Done   6 out of   6 | elapsed:  3.1min remaining:    0.0s\n"
     ]
    },
    {
     "name": "stdout",
     "output_type": "stream",
     "text": [
      "[CV]  criterion=gini, max_features=sqrt, n_estimators=100, score=0.421, total=  53.5s\n",
      "[CV] criterion=gini, max_features=sqrt, n_estimators=100 .............\n"
     ]
    },
    {
     "name": "stderr",
     "output_type": "stream",
     "text": [
      "[Parallel(n_jobs=1)]: Done   7 out of   7 | elapsed:  4.0min remaining:    0.0s\n"
     ]
    },
    {
     "name": "stdout",
     "output_type": "stream",
     "text": [
      "[CV]  criterion=gini, max_features=sqrt, n_estimators=100, score=0.414, total=  53.0s\n",
      "[CV] criterion=gini, max_features=sqrt, n_estimators=100 .............\n"
     ]
    },
    {
     "name": "stderr",
     "output_type": "stream",
     "text": [
      "[Parallel(n_jobs=1)]: Done   8 out of   8 | elapsed:  4.9min remaining:    0.0s\n"
     ]
    },
    {
     "name": "stdout",
     "output_type": "stream",
     "text": [
      "[CV]  criterion=gini, max_features=sqrt, n_estimators=100, score=0.425, total=  53.4s\n",
      "[CV] criterion=gini, max_features=sqrt, n_estimators=100 .............\n"
     ]
    },
    {
     "name": "stderr",
     "output_type": "stream",
     "text": [
      "[Parallel(n_jobs=1)]: Done   9 out of   9 | elapsed:  5.8min remaining:    0.0s\n"
     ]
    },
    {
     "name": "stdout",
     "output_type": "stream",
     "text": [
      "[CV]  criterion=gini, max_features=sqrt, n_estimators=100, score=0.423, total=  53.3s\n",
      "[CV] criterion=gini, max_features=sqrt, n_estimators=200 .............\n",
      "[CV]  criterion=gini, max_features=sqrt, n_estimators=200, score=0.452, total= 1.8min\n",
      "[CV] criterion=gini, max_features=sqrt, n_estimators=200 .............\n",
      "[CV]  criterion=gini, max_features=sqrt, n_estimators=200, score=0.429, total= 1.8min\n",
      "[CV] criterion=gini, max_features=sqrt, n_estimators=200 .............\n",
      "[CV]  criterion=gini, max_features=sqrt, n_estimators=200, score=0.432, total= 1.8min\n",
      "[CV] criterion=gini, max_features=sqrt, n_estimators=200 .............\n",
      "[CV]  criterion=gini, max_features=sqrt, n_estimators=200, score=0.444, total= 1.9min\n",
      "[CV] criterion=gini, max_features=sqrt, n_estimators=200 .............\n",
      "[CV]  criterion=gini, max_features=sqrt, n_estimators=200, score=0.440, total= 1.8min\n",
      "[CV] criterion=gini, max_features=sqrt, n_estimators=500 .............\n",
      "[CV]  criterion=gini, max_features=sqrt, n_estimators=500, score=0.447, total= 4.6min\n",
      "[CV] criterion=gini, max_features=sqrt, n_estimators=500 .............\n",
      "[CV]  criterion=gini, max_features=sqrt, n_estimators=500, score=0.446, total= 4.5min\n",
      "[CV] criterion=gini, max_features=sqrt, n_estimators=500 .............\n",
      "[CV]  criterion=gini, max_features=sqrt, n_estimators=500, score=0.434, total= 4.5min\n",
      "[CV] criterion=gini, max_features=sqrt, n_estimators=500 .............\n",
      "[CV]  criterion=gini, max_features=sqrt, n_estimators=500, score=0.451, total= 4.5min\n",
      "[CV] criterion=gini, max_features=sqrt, n_estimators=500 .............\n",
      "[CV]  criterion=gini, max_features=sqrt, n_estimators=500, score=0.448, total= 4.5min\n",
      "[CV] criterion=gini, max_features=log2, n_estimators=50 ..............\n",
      "[CV]  criterion=gini, max_features=log2, n_estimators=50, score=0.404, total=   6.4s\n",
      "[CV] criterion=gini, max_features=log2, n_estimators=50 ..............\n",
      "[CV]  criterion=gini, max_features=log2, n_estimators=50, score=0.404, total=   6.4s\n",
      "[CV] criterion=gini, max_features=log2, n_estimators=50 ..............\n",
      "[CV]  criterion=gini, max_features=log2, n_estimators=50, score=0.389, total=   6.5s\n",
      "[CV] criterion=gini, max_features=log2, n_estimators=50 ..............\n",
      "[CV]  criterion=gini, max_features=log2, n_estimators=50, score=0.394, total=   6.5s\n",
      "[CV] criterion=gini, max_features=log2, n_estimators=50 ..............\n",
      "[CV]  criterion=gini, max_features=log2, n_estimators=50, score=0.411, total=   6.5s\n",
      "[CV] criterion=gini, max_features=log2, n_estimators=100 .............\n",
      "[CV]  criterion=gini, max_features=log2, n_estimators=100, score=0.419, total=  12.6s\n",
      "[CV] criterion=gini, max_features=log2, n_estimators=100 .............\n",
      "[CV]  criterion=gini, max_features=log2, n_estimators=100, score=0.417, total=  12.6s\n",
      "[CV] criterion=gini, max_features=log2, n_estimators=100 .............\n",
      "[CV]  criterion=gini, max_features=log2, n_estimators=100, score=0.404, total=  12.6s\n",
      "[CV] criterion=gini, max_features=log2, n_estimators=100 .............\n",
      "[CV]  criterion=gini, max_features=log2, n_estimators=100, score=0.422, total=  12.7s\n",
      "[CV] criterion=gini, max_features=log2, n_estimators=100 .............\n",
      "[CV]  criterion=gini, max_features=log2, n_estimators=100, score=0.420, total=  12.8s\n",
      "[CV] criterion=gini, max_features=log2, n_estimators=200 .............\n",
      "[CV]  criterion=gini, max_features=log2, n_estimators=200, score=0.435, total=  25.3s\n",
      "[CV] criterion=gini, max_features=log2, n_estimators=200 .............\n",
      "[CV]  criterion=gini, max_features=log2, n_estimators=200, score=0.430, total=  25.0s\n",
      "[CV] criterion=gini, max_features=log2, n_estimators=200 .............\n",
      "[CV]  criterion=gini, max_features=log2, n_estimators=200, score=0.422, total=  25.1s\n",
      "[CV] criterion=gini, max_features=log2, n_estimators=200 .............\n",
      "[CV]  criterion=gini, max_features=log2, n_estimators=200, score=0.424, total=  25.2s\n",
      "[CV] criterion=gini, max_features=log2, n_estimators=200 .............\n",
      "[CV]  criterion=gini, max_features=log2, n_estimators=200, score=0.433, total=  25.6s\n",
      "[CV] criterion=gini, max_features=log2, n_estimators=500 .............\n",
      "[CV]  criterion=gini, max_features=log2, n_estimators=500, score=0.445, total= 1.0min\n",
      "[CV] criterion=gini, max_features=log2, n_estimators=500 .............\n",
      "[CV]  criterion=gini, max_features=log2, n_estimators=500, score=0.433, total= 1.0min\n",
      "[CV] criterion=gini, max_features=log2, n_estimators=500 .............\n",
      "[CV]  criterion=gini, max_features=log2, n_estimators=500, score=0.436, total= 1.0min\n",
      "[CV] criterion=gini, max_features=log2, n_estimators=500 .............\n",
      "[CV]  criterion=gini, max_features=log2, n_estimators=500, score=0.437, total= 1.1min\n",
      "[CV] criterion=gini, max_features=log2, n_estimators=500 .............\n",
      "[CV]  criterion=gini, max_features=log2, n_estimators=500, score=0.443, total= 1.0min\n"
     ]
    },
    {
     "name": "stderr",
     "output_type": "stream",
     "text": [
      "[Parallel(n_jobs=1)]: Done  40 out of  40 | elapsed: 47.4min finished\n"
     ]
    },
    {
     "name": "stdout",
     "output_type": "stream",
     "text": [
      "{'criterion': 'gini', 'max_features': 'sqrt', 'n_estimators': 500}\n"
     ]
    }
   ],
   "source": [
    "tuned_parameters = [{'n_estimators': [300, 500, 800], 'max_features': ['sqrt'],  'criterion': ['gini'], 'max_depth': [5, 10, 15]}]\n",
    "scores = ['accuracy']\n",
    "\n",
    "rfc = RandomForestClassifier()\n",
    "clf = GridSearchCV(rfc, tuned_parameters, cv=5, scoring='accuracy', verbose=5)\n",
    "clf.fit(X_train, y_train)\n",
    "print(clf.best_params_)\n"
   ]
  },
  {
   "cell_type": "code",
   "execution_count": 0,
   "metadata": {
    "colab": {
     "base_uri": "https://localhost:8080/",
     "height": 68
    },
    "colab_type": "code",
    "id": "O1trLWKIEmmK",
    "outputId": "97a36c44-7f01-4418-a727-758a6101726e"
   },
   "outputs": [
    {
     "name": "stdout",
     "output_type": "stream",
     "text": [
      "best tuning parameters:\n",
      " {'criterion': 'gini', 'max_features': 'sqrt', 'n_estimators': 500}\n",
      "best accuracy for the test set using Random Forests =  0.4502\n"
     ]
    }
   ],
   "source": [
    "print(\"best tuning parameters:\\n\", clf.best_params_)\n",
    "print(\"best accuracy for the test set using Random Forests = \", clf.score(X_test, y_test))"
   ]
  },
  {
   "cell_type": "code",
   "execution_count": 0,
   "metadata": {
    "colab": {},
    "colab_type": "code",
    "id": "xHKaZD16EmTe"
   },
   "outputs": [],
   "source": [
    "# use XGBoost to improve test error\n",
    "import xgboost as xgb\n",
    "from sklearn.metrics import mean_squared_error\n",
    "import pandas as pd\n",
    "import math"
   ]
  },
  {
   "cell_type": "code",
   "execution_count": 0,
   "metadata": {
    "colab": {},
    "colab_type": "code",
    "id": "y3eouq8JFgW-"
   },
   "outputs": [],
   "source": [
    "data_dmatrix = xgb.DMatrix(data=X, label=y)"
   ]
  },
  {
   "cell_type": "code",
   "execution_count": 0,
   "metadata": {
    "colab": {
     "base_uri": "https://localhost:8080/",
     "height": 343
    },
    "colab_type": "code",
    "id": "sh1uHElWFg0_",
    "outputId": "bd318005-c8ad-4406-d7df-19a414078f72"
   },
   "outputs": [
    {
     "name": "stdout",
     "output_type": "stream",
     "text": [
      "Fitting 5 folds for each of 12 candidates, totalling 60 fits\n",
      "[CV] alpha=0.1, colsample_bytree=0.1, learning_rate=0.1, max_depth=3, n_estimators=500, num_class=10, objective=multi:softmax, subsample=0.05 \n"
     ]
    },
    {
     "name": "stderr",
     "output_type": "stream",
     "text": [
      "[Parallel(n_jobs=1)]: Using backend SequentialBackend with 1 concurrent workers.\n"
     ]
    },
    {
     "name": "stdout",
     "output_type": "stream",
     "text": [
      "[CV]  alpha=0.1, colsample_bytree=0.1, learning_rate=0.1, max_depth=3, n_estimators=500, num_class=10, objective=multi:softmax, subsample=0.05, score=0.958, total=14.2min\n",
      "[CV] alpha=0.1, colsample_bytree=0.1, learning_rate=0.1, max_depth=3, n_estimators=500, num_class=10, objective=multi:softmax, subsample=0.05 \n"
     ]
    },
    {
     "name": "stderr",
     "output_type": "stream",
     "text": [
      "[Parallel(n_jobs=1)]: Done   1 out of   1 | elapsed: 14.2min remaining:    0.0s\n"
     ]
    },
    {
     "name": "stdout",
     "output_type": "stream",
     "text": [
      "[CV]  alpha=0.1, colsample_bytree=0.1, learning_rate=0.1, max_depth=3, n_estimators=500, num_class=10, objective=multi:softmax, subsample=0.05, score=0.958, total=14.2min\n",
      "[CV] alpha=0.1, colsample_bytree=0.1, learning_rate=0.1, max_depth=3, n_estimators=500, num_class=10, objective=multi:softmax, subsample=0.05 \n"
     ]
    },
    {
     "name": "stderr",
     "output_type": "stream",
     "text": [
      "[Parallel(n_jobs=1)]: Done   2 out of   2 | elapsed: 28.4min remaining:    0.0s\n"
     ]
    },
    {
     "name": "stdout",
     "output_type": "stream",
     "text": [
      "[CV]  alpha=0.1, colsample_bytree=0.1, learning_rate=0.1, max_depth=3, n_estimators=500, num_class=10, objective=multi:softmax, subsample=0.05, score=0.959, total=14.2min\n",
      "[CV] alpha=0.1, colsample_bytree=0.1, learning_rate=0.1, max_depth=3, n_estimators=500, num_class=10, objective=multi:softmax, subsample=0.05 \n"
     ]
    },
    {
     "name": "stderr",
     "output_type": "stream",
     "text": [
      "[Parallel(n_jobs=1)]: Done   3 out of   3 | elapsed: 42.7min remaining:    0.0s\n"
     ]
    },
    {
     "name": "stdout",
     "output_type": "stream",
     "text": [
      "[CV]  alpha=0.1, colsample_bytree=0.1, learning_rate=0.1, max_depth=3, n_estimators=500, num_class=10, objective=multi:softmax, subsample=0.05, score=0.957, total=14.2min\n",
      "[CV] alpha=0.1, colsample_bytree=0.1, learning_rate=0.1, max_depth=3, n_estimators=500, num_class=10, objective=multi:softmax, subsample=0.05 \n"
     ]
    },
    {
     "name": "stderr",
     "output_type": "stream",
     "text": [
      "[Parallel(n_jobs=1)]: Done   4 out of   4 | elapsed: 56.9min remaining:    0.0s\n"
     ]
    },
    {
     "name": "stdout",
     "output_type": "stream",
     "text": [
      "[CV]  alpha=0.1, colsample_bytree=0.1, learning_rate=0.1, max_depth=3, n_estimators=500, num_class=10, objective=multi:softmax, subsample=0.05, score=0.958, total=14.2min\n",
      "[CV] alpha=0.1, colsample_bytree=0.1, learning_rate=0.1, max_depth=3, n_estimators=800, num_class=10, objective=multi:softmax, subsample=0.05 \n"
     ]
    },
    {
     "name": "stderr",
     "output_type": "stream",
     "text": [
      "[Parallel(n_jobs=1)]: Done   5 out of   5 | elapsed: 71.1min remaining:    0.0s\n"
     ]
    }
   ],
   "source": [
    "tuned_parameters = {'learning_rate': [0.1], \n",
    "                    'max_depth': [3, 5],\n",
    "                    'subsample': [0.05],  # percentage of samples used per tree\n",
    "                    'colsample_bytree': [0.1, 0.2],  # percentage of features used per tree\n",
    "                    'n_estimators': [500, 800, 1000],\n",
    "                    'objective': ['multi:softmax'],\n",
    "                    'num_class': [10],\n",
    "                    'alpha': [0.1]\n",
    "                    }\n",
    "xg_clf = xgb.XGBClassifier()\n",
    "xgb_CV = GridSearchCV(xg_clf, tuned_parameters, cv=5, verbose=10, scoring='accuracy')\n",
    "xgb_CV.fit(X_train, y_train)"
   ]
  },
  {
   "cell_type": "code",
   "execution_count": 0,
   "metadata": {
    "colab": {
     "base_uri": "https://localhost:8080/",
     "height": 34
    },
    "colab_type": "code",
    "id": "_tSCymM-zGaa",
    "outputId": "3d0d431b-197e-48f0-8501-f72ecb26c885"
   },
   "outputs": [
    {
     "data": {
      "text/plain": [
       "0.39386666666666664"
      ]
     },
     "execution_count": 9,
     "metadata": {
      "tags": []
     },
     "output_type": "execute_result"
    }
   ],
   "source": [
    "xgb_CV.score(X_train, y_train)"
   ]
  },
  {
   "cell_type": "code",
   "execution_count": 0,
   "metadata": {
    "colab": {
     "base_uri": "https://localhost:8080/",
     "height": 217
    },
    "colab_type": "code",
    "id": "-jFDwDP52F0n",
    "outputId": "79538969-4bbe-4ebc-b27e-6cd79b80c288"
   },
   "outputs": [
    {
     "ename": "TypeError",
     "evalue": "ignored",
     "output_type": "error",
     "traceback": [
      "\u001b[0;31m---------------------------------------------------------------------------\u001b[0m",
      "\u001b[0;31mTypeError\u001b[0m                                 Traceback (most recent call last)",
      "\u001b[0;32m<ipython-input-22-b36d701badf5>\u001b[0m in \u001b[0;36m<module>\u001b[0;34m()\u001b[0m\n\u001b[1;32m      2\u001b[0m                 'max_depth': 5, 'alpha': 10, 'num_class':10}\n\u001b[1;32m      3\u001b[0m \u001b[0;34m\u001b[0m\u001b[0m\n\u001b[0;32m----> 4\u001b[0;31m \u001b[0mcv_results\u001b[0m \u001b[0;34m=\u001b[0m \u001b[0mxgb\u001b[0m\u001b[0;34m.\u001b[0m\u001b[0mcv\u001b[0m\u001b[0;34m(\u001b[0m\u001b[0mdtrain\u001b[0m\u001b[0;34m=\u001b[0m\u001b[0mdata_dmatrix\u001b[0m\u001b[0;34m,\u001b[0m \u001b[0mparams\u001b[0m\u001b[0;34m=\u001b[0m\u001b[0mparams\u001b[0m\u001b[0;34m,\u001b[0m \u001b[0mnfold\u001b[0m\u001b[0;34m=\u001b[0m\u001b[0;36m3\u001b[0m\u001b[0;34m,\u001b[0m \u001b[0mnum_class\u001b[0m\u001b[0;34m=\u001b[0m\u001b[0;36m10\u001b[0m\u001b[0;34m)\u001b[0m\u001b[0;34m\u001b[0m\u001b[0;34m\u001b[0m\u001b[0m\n\u001b[0m",
      "\u001b[0;31mTypeError\u001b[0m: cv() got an unexpected keyword argument 'num_class'"
     ]
    }
   ],
   "source": [
    "params = {\"objective\":\"multi:softmax\",'colsample_bytree': 0.3,'learning_rate': 0.1,\n",
    "                'max_depth': 5, 'alpha': 10}\n",
    "xgb_clf = XGBClassifier(num_class=10)\n",
    "cv_results = xgb.cv(dtrain=data_dmatrix, params=params, nfold=3, num_class=10)"
   ]
  },
  {
   "cell_type": "code",
   "execution_count": 0,
   "metadata": {
    "colab": {
     "base_uri": "https://localhost:8080/",
     "height": 204
    },
    "colab_type": "code",
    "id": "JWRvax9dpV_l",
    "outputId": "c8baf591-bc36-4d74-f46d-a3d061083866"
   },
   "outputs": [
    {
     "data": {
      "text/html": [
       "<div>\n",
       "<style scoped>\n",
       "    .dataframe tbody tr th:only-of-type {\n",
       "        vertical-align: middle;\n",
       "    }\n",
       "\n",
       "    .dataframe tbody tr th {\n",
       "        vertical-align: top;\n",
       "    }\n",
       "\n",
       "    .dataframe thead th {\n",
       "        text-align: right;\n",
       "    }\n",
       "</style>\n",
       "<table border=\"1\" class=\"dataframe\">\n",
       "  <thead>\n",
       "    <tr style=\"text-align: right;\">\n",
       "      <th></th>\n",
       "      <th>train-rmse-mean</th>\n",
       "      <th>train-rmse-std</th>\n",
       "      <th>test-rmse-mean</th>\n",
       "      <th>test-rmse-std</th>\n",
       "    </tr>\n",
       "  </thead>\n",
       "  <tbody>\n",
       "    <tr>\n",
       "      <th>0</th>\n",
       "      <td>4.584455</td>\n",
       "      <td>0.015325</td>\n",
       "      <td>4.589931</td>\n",
       "      <td>0.034042</td>\n",
       "    </tr>\n",
       "    <tr>\n",
       "      <th>1</th>\n",
       "      <td>4.287787</td>\n",
       "      <td>0.014387</td>\n",
       "      <td>4.300728</td>\n",
       "      <td>0.033260</td>\n",
       "    </tr>\n",
       "    <tr>\n",
       "      <th>2</th>\n",
       "      <td>4.029813</td>\n",
       "      <td>0.012992</td>\n",
       "      <td>4.050666</td>\n",
       "      <td>0.032648</td>\n",
       "    </tr>\n",
       "    <tr>\n",
       "      <th>3</th>\n",
       "      <td>3.805365</td>\n",
       "      <td>0.011807</td>\n",
       "      <td>3.835682</td>\n",
       "      <td>0.031879</td>\n",
       "    </tr>\n",
       "    <tr>\n",
       "      <th>4</th>\n",
       "      <td>3.612409</td>\n",
       "      <td>0.011687</td>\n",
       "      <td>3.650778</td>\n",
       "      <td>0.031262</td>\n",
       "    </tr>\n",
       "  </tbody>\n",
       "</table>\n",
       "</div>"
      ],
      "text/plain": [
       "   train-rmse-mean  train-rmse-std  test-rmse-mean  test-rmse-std\n",
       "0         4.584455        0.015325        4.589931       0.034042\n",
       "1         4.287787        0.014387        4.300728       0.033260\n",
       "2         4.029813        0.012992        4.050666       0.032648\n",
       "3         3.805365        0.011807        3.835682       0.031879\n",
       "4         3.612409        0.011687        3.650778       0.031262"
      ]
     },
     "execution_count": 9,
     "metadata": {
      "tags": []
     },
     "output_type": "execute_result"
    }
   ],
   "source": [
    "cv_results.head()"
   ]
  },
  {
   "cell_type": "markdown",
   "metadata": {
    "colab_type": "text",
    "id": "QKQC74TYAzmw"
   },
   "source": [
    "## Problem 3: Revisiting Kaggle\n"
   ]
  },
  {
   "cell_type": "code",
   "execution_count": 0,
   "metadata": {
    "colab": {},
    "colab_type": "code",
    "id": "Lw0Wgq52zifN"
   },
   "outputs": [],
   "source": [
    "# https://www.kaggle.com/apapiu/regularized-linear-models\n",
    "import pandas as pd\n",
    "import numpy as np\n",
    "import seaborn as sns\n",
    "import matplotlib\n",
    "\n",
    "import matplotlib.pyplot as plt\n",
    "from scipy.stats import skew\n",
    "from scipy.stats.stats import pearsonr\n",
    "\n",
    "%config InlineBackend.figure_format = 'retina' #set 'png' here when working on notebook\n",
    "%matplotlib inline"
   ]
  },
  {
   "cell_type": "code",
   "execution_count": 0,
   "metadata": {
    "colab": {
     "base_uri": "https://localhost:8080/",
     "height": 253
    },
    "colab_type": "code",
    "id": "Muzq84DRy3CJ",
    "outputId": "1ba74a9f-a56a-448d-9abe-8e0069510649"
   },
   "outputs": [
    {
     "data": {
      "text/html": [
       "<div>\n",
       "<style scoped>\n",
       "    .dataframe tbody tr th:only-of-type {\n",
       "        vertical-align: middle;\n",
       "    }\n",
       "\n",
       "    .dataframe tbody tr th {\n",
       "        vertical-align: top;\n",
       "    }\n",
       "\n",
       "    .dataframe thead th {\n",
       "        text-align: right;\n",
       "    }\n",
       "</style>\n",
       "<table border=\"1\" class=\"dataframe\">\n",
       "  <thead>\n",
       "    <tr style=\"text-align: right;\">\n",
       "      <th></th>\n",
       "      <th>Id</th>\n",
       "      <th>MSSubClass</th>\n",
       "      <th>MSZoning</th>\n",
       "      <th>LotFrontage</th>\n",
       "      <th>LotArea</th>\n",
       "      <th>Street</th>\n",
       "      <th>Alley</th>\n",
       "      <th>LotShape</th>\n",
       "      <th>LandContour</th>\n",
       "      <th>Utilities</th>\n",
       "      <th>LotConfig</th>\n",
       "      <th>LandSlope</th>\n",
       "      <th>Neighborhood</th>\n",
       "      <th>Condition1</th>\n",
       "      <th>Condition2</th>\n",
       "      <th>BldgType</th>\n",
       "      <th>HouseStyle</th>\n",
       "      <th>OverallQual</th>\n",
       "      <th>OverallCond</th>\n",
       "      <th>YearBuilt</th>\n",
       "      <th>YearRemodAdd</th>\n",
       "      <th>RoofStyle</th>\n",
       "      <th>RoofMatl</th>\n",
       "      <th>Exterior1st</th>\n",
       "      <th>Exterior2nd</th>\n",
       "      <th>MasVnrType</th>\n",
       "      <th>MasVnrArea</th>\n",
       "      <th>ExterQual</th>\n",
       "      <th>ExterCond</th>\n",
       "      <th>Foundation</th>\n",
       "      <th>BsmtQual</th>\n",
       "      <th>BsmtCond</th>\n",
       "      <th>BsmtExposure</th>\n",
       "      <th>BsmtFinType1</th>\n",
       "      <th>BsmtFinSF1</th>\n",
       "      <th>BsmtFinType2</th>\n",
       "      <th>BsmtFinSF2</th>\n",
       "      <th>BsmtUnfSF</th>\n",
       "      <th>TotalBsmtSF</th>\n",
       "      <th>Heating</th>\n",
       "      <th>...</th>\n",
       "      <th>CentralAir</th>\n",
       "      <th>Electrical</th>\n",
       "      <th>1stFlrSF</th>\n",
       "      <th>2ndFlrSF</th>\n",
       "      <th>LowQualFinSF</th>\n",
       "      <th>GrLivArea</th>\n",
       "      <th>BsmtFullBath</th>\n",
       "      <th>BsmtHalfBath</th>\n",
       "      <th>FullBath</th>\n",
       "      <th>HalfBath</th>\n",
       "      <th>BedroomAbvGr</th>\n",
       "      <th>KitchenAbvGr</th>\n",
       "      <th>KitchenQual</th>\n",
       "      <th>TotRmsAbvGrd</th>\n",
       "      <th>Functional</th>\n",
       "      <th>Fireplaces</th>\n",
       "      <th>FireplaceQu</th>\n",
       "      <th>GarageType</th>\n",
       "      <th>GarageYrBlt</th>\n",
       "      <th>GarageFinish</th>\n",
       "      <th>GarageCars</th>\n",
       "      <th>GarageArea</th>\n",
       "      <th>GarageQual</th>\n",
       "      <th>GarageCond</th>\n",
       "      <th>PavedDrive</th>\n",
       "      <th>WoodDeckSF</th>\n",
       "      <th>OpenPorchSF</th>\n",
       "      <th>EnclosedPorch</th>\n",
       "      <th>3SsnPorch</th>\n",
       "      <th>ScreenPorch</th>\n",
       "      <th>PoolArea</th>\n",
       "      <th>PoolQC</th>\n",
       "      <th>Fence</th>\n",
       "      <th>MiscFeature</th>\n",
       "      <th>MiscVal</th>\n",
       "      <th>MoSold</th>\n",
       "      <th>YrSold</th>\n",
       "      <th>SaleType</th>\n",
       "      <th>SaleCondition</th>\n",
       "      <th>SalePrice</th>\n",
       "    </tr>\n",
       "  </thead>\n",
       "  <tbody>\n",
       "    <tr>\n",
       "      <th>0</th>\n",
       "      <td>1</td>\n",
       "      <td>60</td>\n",
       "      <td>RL</td>\n",
       "      <td>65.0</td>\n",
       "      <td>8450</td>\n",
       "      <td>Pave</td>\n",
       "      <td>NaN</td>\n",
       "      <td>Reg</td>\n",
       "      <td>Lvl</td>\n",
       "      <td>AllPub</td>\n",
       "      <td>Inside</td>\n",
       "      <td>Gtl</td>\n",
       "      <td>CollgCr</td>\n",
       "      <td>Norm</td>\n",
       "      <td>Norm</td>\n",
       "      <td>1Fam</td>\n",
       "      <td>2Story</td>\n",
       "      <td>7</td>\n",
       "      <td>5</td>\n",
       "      <td>2003</td>\n",
       "      <td>2003</td>\n",
       "      <td>Gable</td>\n",
       "      <td>CompShg</td>\n",
       "      <td>VinylSd</td>\n",
       "      <td>VinylSd</td>\n",
       "      <td>BrkFace</td>\n",
       "      <td>196.0</td>\n",
       "      <td>Gd</td>\n",
       "      <td>TA</td>\n",
       "      <td>PConc</td>\n",
       "      <td>Gd</td>\n",
       "      <td>TA</td>\n",
       "      <td>No</td>\n",
       "      <td>GLQ</td>\n",
       "      <td>706</td>\n",
       "      <td>Unf</td>\n",
       "      <td>0</td>\n",
       "      <td>150</td>\n",
       "      <td>856</td>\n",
       "      <td>GasA</td>\n",
       "      <td>...</td>\n",
       "      <td>Y</td>\n",
       "      <td>SBrkr</td>\n",
       "      <td>856</td>\n",
       "      <td>854</td>\n",
       "      <td>0</td>\n",
       "      <td>1710</td>\n",
       "      <td>1</td>\n",
       "      <td>0</td>\n",
       "      <td>2</td>\n",
       "      <td>1</td>\n",
       "      <td>3</td>\n",
       "      <td>1</td>\n",
       "      <td>Gd</td>\n",
       "      <td>8</td>\n",
       "      <td>Typ</td>\n",
       "      <td>0</td>\n",
       "      <td>NaN</td>\n",
       "      <td>Attchd</td>\n",
       "      <td>2003.0</td>\n",
       "      <td>RFn</td>\n",
       "      <td>2</td>\n",
       "      <td>548</td>\n",
       "      <td>TA</td>\n",
       "      <td>TA</td>\n",
       "      <td>Y</td>\n",
       "      <td>0</td>\n",
       "      <td>61</td>\n",
       "      <td>0</td>\n",
       "      <td>0</td>\n",
       "      <td>0</td>\n",
       "      <td>0</td>\n",
       "      <td>NaN</td>\n",
       "      <td>NaN</td>\n",
       "      <td>NaN</td>\n",
       "      <td>0</td>\n",
       "      <td>2</td>\n",
       "      <td>2008</td>\n",
       "      <td>WD</td>\n",
       "      <td>Normal</td>\n",
       "      <td>208500</td>\n",
       "    </tr>\n",
       "    <tr>\n",
       "      <th>1</th>\n",
       "      <td>2</td>\n",
       "      <td>20</td>\n",
       "      <td>RL</td>\n",
       "      <td>80.0</td>\n",
       "      <td>9600</td>\n",
       "      <td>Pave</td>\n",
       "      <td>NaN</td>\n",
       "      <td>Reg</td>\n",
       "      <td>Lvl</td>\n",
       "      <td>AllPub</td>\n",
       "      <td>FR2</td>\n",
       "      <td>Gtl</td>\n",
       "      <td>Veenker</td>\n",
       "      <td>Feedr</td>\n",
       "      <td>Norm</td>\n",
       "      <td>1Fam</td>\n",
       "      <td>1Story</td>\n",
       "      <td>6</td>\n",
       "      <td>8</td>\n",
       "      <td>1976</td>\n",
       "      <td>1976</td>\n",
       "      <td>Gable</td>\n",
       "      <td>CompShg</td>\n",
       "      <td>MetalSd</td>\n",
       "      <td>MetalSd</td>\n",
       "      <td>None</td>\n",
       "      <td>0.0</td>\n",
       "      <td>TA</td>\n",
       "      <td>TA</td>\n",
       "      <td>CBlock</td>\n",
       "      <td>Gd</td>\n",
       "      <td>TA</td>\n",
       "      <td>Gd</td>\n",
       "      <td>ALQ</td>\n",
       "      <td>978</td>\n",
       "      <td>Unf</td>\n",
       "      <td>0</td>\n",
       "      <td>284</td>\n",
       "      <td>1262</td>\n",
       "      <td>GasA</td>\n",
       "      <td>...</td>\n",
       "      <td>Y</td>\n",
       "      <td>SBrkr</td>\n",
       "      <td>1262</td>\n",
       "      <td>0</td>\n",
       "      <td>0</td>\n",
       "      <td>1262</td>\n",
       "      <td>0</td>\n",
       "      <td>1</td>\n",
       "      <td>2</td>\n",
       "      <td>0</td>\n",
       "      <td>3</td>\n",
       "      <td>1</td>\n",
       "      <td>TA</td>\n",
       "      <td>6</td>\n",
       "      <td>Typ</td>\n",
       "      <td>1</td>\n",
       "      <td>TA</td>\n",
       "      <td>Attchd</td>\n",
       "      <td>1976.0</td>\n",
       "      <td>RFn</td>\n",
       "      <td>2</td>\n",
       "      <td>460</td>\n",
       "      <td>TA</td>\n",
       "      <td>TA</td>\n",
       "      <td>Y</td>\n",
       "      <td>298</td>\n",
       "      <td>0</td>\n",
       "      <td>0</td>\n",
       "      <td>0</td>\n",
       "      <td>0</td>\n",
       "      <td>0</td>\n",
       "      <td>NaN</td>\n",
       "      <td>NaN</td>\n",
       "      <td>NaN</td>\n",
       "      <td>0</td>\n",
       "      <td>5</td>\n",
       "      <td>2007</td>\n",
       "      <td>WD</td>\n",
       "      <td>Normal</td>\n",
       "      <td>181500</td>\n",
       "    </tr>\n",
       "    <tr>\n",
       "      <th>2</th>\n",
       "      <td>3</td>\n",
       "      <td>60</td>\n",
       "      <td>RL</td>\n",
       "      <td>68.0</td>\n",
       "      <td>11250</td>\n",
       "      <td>Pave</td>\n",
       "      <td>NaN</td>\n",
       "      <td>IR1</td>\n",
       "      <td>Lvl</td>\n",
       "      <td>AllPub</td>\n",
       "      <td>Inside</td>\n",
       "      <td>Gtl</td>\n",
       "      <td>CollgCr</td>\n",
       "      <td>Norm</td>\n",
       "      <td>Norm</td>\n",
       "      <td>1Fam</td>\n",
       "      <td>2Story</td>\n",
       "      <td>7</td>\n",
       "      <td>5</td>\n",
       "      <td>2001</td>\n",
       "      <td>2002</td>\n",
       "      <td>Gable</td>\n",
       "      <td>CompShg</td>\n",
       "      <td>VinylSd</td>\n",
       "      <td>VinylSd</td>\n",
       "      <td>BrkFace</td>\n",
       "      <td>162.0</td>\n",
       "      <td>Gd</td>\n",
       "      <td>TA</td>\n",
       "      <td>PConc</td>\n",
       "      <td>Gd</td>\n",
       "      <td>TA</td>\n",
       "      <td>Mn</td>\n",
       "      <td>GLQ</td>\n",
       "      <td>486</td>\n",
       "      <td>Unf</td>\n",
       "      <td>0</td>\n",
       "      <td>434</td>\n",
       "      <td>920</td>\n",
       "      <td>GasA</td>\n",
       "      <td>...</td>\n",
       "      <td>Y</td>\n",
       "      <td>SBrkr</td>\n",
       "      <td>920</td>\n",
       "      <td>866</td>\n",
       "      <td>0</td>\n",
       "      <td>1786</td>\n",
       "      <td>1</td>\n",
       "      <td>0</td>\n",
       "      <td>2</td>\n",
       "      <td>1</td>\n",
       "      <td>3</td>\n",
       "      <td>1</td>\n",
       "      <td>Gd</td>\n",
       "      <td>6</td>\n",
       "      <td>Typ</td>\n",
       "      <td>1</td>\n",
       "      <td>TA</td>\n",
       "      <td>Attchd</td>\n",
       "      <td>2001.0</td>\n",
       "      <td>RFn</td>\n",
       "      <td>2</td>\n",
       "      <td>608</td>\n",
       "      <td>TA</td>\n",
       "      <td>TA</td>\n",
       "      <td>Y</td>\n",
       "      <td>0</td>\n",
       "      <td>42</td>\n",
       "      <td>0</td>\n",
       "      <td>0</td>\n",
       "      <td>0</td>\n",
       "      <td>0</td>\n",
       "      <td>NaN</td>\n",
       "      <td>NaN</td>\n",
       "      <td>NaN</td>\n",
       "      <td>0</td>\n",
       "      <td>9</td>\n",
       "      <td>2008</td>\n",
       "      <td>WD</td>\n",
       "      <td>Normal</td>\n",
       "      <td>223500</td>\n",
       "    </tr>\n",
       "    <tr>\n",
       "      <th>3</th>\n",
       "      <td>4</td>\n",
       "      <td>70</td>\n",
       "      <td>RL</td>\n",
       "      <td>60.0</td>\n",
       "      <td>9550</td>\n",
       "      <td>Pave</td>\n",
       "      <td>NaN</td>\n",
       "      <td>IR1</td>\n",
       "      <td>Lvl</td>\n",
       "      <td>AllPub</td>\n",
       "      <td>Corner</td>\n",
       "      <td>Gtl</td>\n",
       "      <td>Crawfor</td>\n",
       "      <td>Norm</td>\n",
       "      <td>Norm</td>\n",
       "      <td>1Fam</td>\n",
       "      <td>2Story</td>\n",
       "      <td>7</td>\n",
       "      <td>5</td>\n",
       "      <td>1915</td>\n",
       "      <td>1970</td>\n",
       "      <td>Gable</td>\n",
       "      <td>CompShg</td>\n",
       "      <td>Wd Sdng</td>\n",
       "      <td>Wd Shng</td>\n",
       "      <td>None</td>\n",
       "      <td>0.0</td>\n",
       "      <td>TA</td>\n",
       "      <td>TA</td>\n",
       "      <td>BrkTil</td>\n",
       "      <td>TA</td>\n",
       "      <td>Gd</td>\n",
       "      <td>No</td>\n",
       "      <td>ALQ</td>\n",
       "      <td>216</td>\n",
       "      <td>Unf</td>\n",
       "      <td>0</td>\n",
       "      <td>540</td>\n",
       "      <td>756</td>\n",
       "      <td>GasA</td>\n",
       "      <td>...</td>\n",
       "      <td>Y</td>\n",
       "      <td>SBrkr</td>\n",
       "      <td>961</td>\n",
       "      <td>756</td>\n",
       "      <td>0</td>\n",
       "      <td>1717</td>\n",
       "      <td>1</td>\n",
       "      <td>0</td>\n",
       "      <td>1</td>\n",
       "      <td>0</td>\n",
       "      <td>3</td>\n",
       "      <td>1</td>\n",
       "      <td>Gd</td>\n",
       "      <td>7</td>\n",
       "      <td>Typ</td>\n",
       "      <td>1</td>\n",
       "      <td>Gd</td>\n",
       "      <td>Detchd</td>\n",
       "      <td>1998.0</td>\n",
       "      <td>Unf</td>\n",
       "      <td>3</td>\n",
       "      <td>642</td>\n",
       "      <td>TA</td>\n",
       "      <td>TA</td>\n",
       "      <td>Y</td>\n",
       "      <td>0</td>\n",
       "      <td>35</td>\n",
       "      <td>272</td>\n",
       "      <td>0</td>\n",
       "      <td>0</td>\n",
       "      <td>0</td>\n",
       "      <td>NaN</td>\n",
       "      <td>NaN</td>\n",
       "      <td>NaN</td>\n",
       "      <td>0</td>\n",
       "      <td>2</td>\n",
       "      <td>2006</td>\n",
       "      <td>WD</td>\n",
       "      <td>Abnorml</td>\n",
       "      <td>140000</td>\n",
       "    </tr>\n",
       "    <tr>\n",
       "      <th>4</th>\n",
       "      <td>5</td>\n",
       "      <td>60</td>\n",
       "      <td>RL</td>\n",
       "      <td>84.0</td>\n",
       "      <td>14260</td>\n",
       "      <td>Pave</td>\n",
       "      <td>NaN</td>\n",
       "      <td>IR1</td>\n",
       "      <td>Lvl</td>\n",
       "      <td>AllPub</td>\n",
       "      <td>FR2</td>\n",
       "      <td>Gtl</td>\n",
       "      <td>NoRidge</td>\n",
       "      <td>Norm</td>\n",
       "      <td>Norm</td>\n",
       "      <td>1Fam</td>\n",
       "      <td>2Story</td>\n",
       "      <td>8</td>\n",
       "      <td>5</td>\n",
       "      <td>2000</td>\n",
       "      <td>2000</td>\n",
       "      <td>Gable</td>\n",
       "      <td>CompShg</td>\n",
       "      <td>VinylSd</td>\n",
       "      <td>VinylSd</td>\n",
       "      <td>BrkFace</td>\n",
       "      <td>350.0</td>\n",
       "      <td>Gd</td>\n",
       "      <td>TA</td>\n",
       "      <td>PConc</td>\n",
       "      <td>Gd</td>\n",
       "      <td>TA</td>\n",
       "      <td>Av</td>\n",
       "      <td>GLQ</td>\n",
       "      <td>655</td>\n",
       "      <td>Unf</td>\n",
       "      <td>0</td>\n",
       "      <td>490</td>\n",
       "      <td>1145</td>\n",
       "      <td>GasA</td>\n",
       "      <td>...</td>\n",
       "      <td>Y</td>\n",
       "      <td>SBrkr</td>\n",
       "      <td>1145</td>\n",
       "      <td>1053</td>\n",
       "      <td>0</td>\n",
       "      <td>2198</td>\n",
       "      <td>1</td>\n",
       "      <td>0</td>\n",
       "      <td>2</td>\n",
       "      <td>1</td>\n",
       "      <td>4</td>\n",
       "      <td>1</td>\n",
       "      <td>Gd</td>\n",
       "      <td>9</td>\n",
       "      <td>Typ</td>\n",
       "      <td>1</td>\n",
       "      <td>TA</td>\n",
       "      <td>Attchd</td>\n",
       "      <td>2000.0</td>\n",
       "      <td>RFn</td>\n",
       "      <td>3</td>\n",
       "      <td>836</td>\n",
       "      <td>TA</td>\n",
       "      <td>TA</td>\n",
       "      <td>Y</td>\n",
       "      <td>192</td>\n",
       "      <td>84</td>\n",
       "      <td>0</td>\n",
       "      <td>0</td>\n",
       "      <td>0</td>\n",
       "      <td>0</td>\n",
       "      <td>NaN</td>\n",
       "      <td>NaN</td>\n",
       "      <td>NaN</td>\n",
       "      <td>0</td>\n",
       "      <td>12</td>\n",
       "      <td>2008</td>\n",
       "      <td>WD</td>\n",
       "      <td>Normal</td>\n",
       "      <td>250000</td>\n",
       "    </tr>\n",
       "  </tbody>\n",
       "</table>\n",
       "<p>5 rows × 81 columns</p>\n",
       "</div>"
      ],
      "text/plain": [
       "   Id  MSSubClass MSZoning  ...  SaleType  SaleCondition SalePrice\n",
       "0   1          60       RL  ...        WD         Normal    208500\n",
       "1   2          20       RL  ...        WD         Normal    181500\n",
       "2   3          60       RL  ...        WD         Normal    223500\n",
       "3   4          70       RL  ...        WD        Abnorml    140000\n",
       "4   5          60       RL  ...        WD         Normal    250000\n",
       "\n",
       "[5 rows x 81 columns]"
      ]
     },
     "execution_count": 14,
     "metadata": {
      "tags": []
     },
     "output_type": "execute_result"
    }
   ],
   "source": [
    "train = pd.read_csv(\"train.csv\")\n",
    "test = pd.read_csv(\"test.csv\")\n",
    "train.head()"
   ]
  },
  {
   "cell_type": "code",
   "execution_count": 0,
   "metadata": {
    "colab": {
     "base_uri": "https://localhost:8080/",
     "height": 440
    },
    "colab_type": "code",
    "id": "yJQrJuEpzXMB",
    "outputId": "32d52619-164e-45e4-e330-192ac912f5d7"
   },
   "outputs": [
    {
     "data": {
      "text/plain": [
       "array([[<matplotlib.axes._subplots.AxesSubplot object at 0x7fa2bd20a780>,\n",
       "        <matplotlib.axes._subplots.AxesSubplot object at 0x7fa2b72cd550>]],\n",
       "      dtype=object)"
      ]
     },
     "execution_count": 15,
     "metadata": {
      "tags": []
     },
     "output_type": "execute_result"
    },
    {
     "data": {
      "image/png": "[encoded data removed]",
      "text/plain": [
       "<Figure size 864x432 with 2 Axes>"
      ]
     },
     "metadata": {
      "image/png": {
       "height": 372,
       "width": 712
      },
      "tags": []
     },
     "output_type": "display_data"
    }
   ],
   "source": [
    "all_data = pd.concat((train.loc[:,'MSSubClass':'SaleCondition'],\n",
    "                      test.loc[:,'MSSubClass':'SaleCondition']))\n",
    "matplotlib.rcParams['figure.figsize'] = (12.0, 6.0)\n",
    "prices = pd.DataFrame({\"price\":train[\"SalePrice\"], \"log(price + 1)\":np.log1p(train[\"SalePrice\"])})\n",
    "prices.hist()"
   ]
  },
  {
   "cell_type": "code",
   "execution_count": 0,
   "metadata": {
    "colab": {},
    "colab_type": "code",
    "id": "o7njz2X7zvym"
   },
   "outputs": [],
   "source": [
    "#log transform the target:\n",
    "train[\"SalePrice\"] = np.log1p(train[\"SalePrice\"])\n",
    "\n",
    "#log transform skewed numeric features:\n",
    "numeric_feats = all_data.dtypes[all_data.dtypes != \"object\"].index\n",
    "\n",
    "skewed_feats = train[numeric_feats].apply(lambda x: skew(x.dropna())) #compute skewness\n",
    "skewed_feats = skewed_feats[skewed_feats > 0.75]\n",
    "skewed_feats = skewed_feats.index\n",
    "\n",
    "all_data[skewed_feats] = np.log1p(all_data[skewed_feats])"
   ]
  },
  {
   "cell_type": "code",
   "execution_count": 0,
   "metadata": {
    "colab": {},
    "colab_type": "code",
    "id": "jlAoN9EnzwhJ"
   },
   "outputs": [],
   "source": [
    "all_data = pd.get_dummies(all_data)\n",
    "#filling NA's with the mean of the column:\n",
    "all_data = all_data.fillna(all_data.mean())"
   ]
  },
  {
   "cell_type": "code",
   "execution_count": 0,
   "metadata": {
    "colab": {},
    "colab_type": "code",
    "id": "7-CPLBGvzyyB"
   },
   "outputs": [],
   "source": [
    "#creating matrices for sklearn:\n",
    "X_train = all_data[:train.shape[0]]\n",
    "X_test = all_data[train.shape[0]:]\n",
    "y = train.SalePrice"
   ]
  },
  {
   "cell_type": "code",
   "execution_count": 0,
   "metadata": {
    "colab": {},
    "colab_type": "code",
    "id": "c8EPgvqiz1OZ"
   },
   "outputs": [],
   "source": [
    "from sklearn.linear_model import Ridge, RidgeCV, ElasticNet, LassoCV, LassoLarsCV\n",
    "from sklearn.model_selection import cross_val_score\n",
    "\n",
    "def rmse_cv(model):\n",
    "    rmse= np.sqrt(-cross_val_score(model, X_train, y, scoring=\"neg_mean_squared_error\", cv = 5))\n",
    "    return(rmse)"
   ]
  },
  {
   "cell_type": "code",
   "execution_count": 0,
   "metadata": {
    "colab": {},
    "colab_type": "code",
    "id": "SiGEp3Udz2zp"
   },
   "outputs": [],
   "source": [
    "model_ridge = Ridge()"
   ]
  },
  {
   "cell_type": "code",
   "execution_count": 0,
   "metadata": {
    "colab": {},
    "colab_type": "code",
    "id": "y8iX1JHfz38Z"
   },
   "outputs": [],
   "source": [
    "alphas = [0.05, 0.1, 0.3, 1, 3, 5, 10, 15, 30, 50, 75]\n",
    "cv_ridge = [rmse_cv(Ridge(alpha = alpha)).mean() for alpha in alphas]"
   ]
  },
  {
   "cell_type": "code",
   "execution_count": 0,
   "metadata": {
    "colab": {
     "base_uri": "https://localhost:8080/",
     "height": 420
    },
    "colab_type": "code",
    "id": "WzYHpnslz5NC",
    "outputId": "feb020b3-859b-4298-824e-bff6927da4ca"
   },
   "outputs": [
    {
     "data": {
      "text/plain": [
       "Text(0, 0.5, 'rmse')"
      ]
     },
     "execution_count": 27,
     "metadata": {
      "tags": []
     },
     "output_type": "execute_result"
    },
    {
     "data": {
      "image/png": "[encoded data removed]",
      "text/plain": [
       "<Figure size 864x432 with 1 Axes>"
      ]
     },
     "metadata": {
      "image/png": {
       "height": 386,
       "width": 735
      },
      "tags": []
     },
     "output_type": "display_data"
    }
   ],
   "source": [
    "cv_ridge = pd.Series(cv_ridge, index = alphas)\n",
    "cv_ridge.plot(title = \"Validation - Just Do It\")\n",
    "plt.xlabel(\"alpha\")\n",
    "plt.ylabel(\"rmse\")\n"
   ]
  },
  {
   "cell_type": "code",
   "execution_count": 0,
   "metadata": {
    "colab": {
     "base_uri": "https://localhost:8080/",
     "height": 34
    },
    "colab_type": "code",
    "id": "IFqMg20o0ZCT",
    "outputId": "59c2e880-c5b0-4eeb-a0ec-3c2383512738"
   },
   "outputs": [
    {
     "data": {
      "text/plain": [
       "0.12733734668670757"
      ]
     },
     "execution_count": 28,
     "metadata": {
      "tags": []
     },
     "output_type": "execute_result"
    }
   ],
   "source": [
    "cv_ridge.min()"
   ]
  },
  {
   "cell_type": "code",
   "execution_count": 0,
   "metadata": {
    "colab": {
     "base_uri": "https://localhost:8080/",
     "height": 71
    },
    "colab_type": "code",
    "id": "x6e4mYQC0bSZ",
    "outputId": "a7721b32-9333-4a85-f7ed-1a2df52cdb31"
   },
   "outputs": [
    {
     "name": "stderr",
     "output_type": "stream",
     "text": [
      "/usr/local/lib/python3.6/dist-packages/sklearn/model_selection/_split.py:1978: FutureWarning: The default value of cv will change from 3 to 5 in version 0.22. Specify it explicitly to silence this warning.\n",
      "  warnings.warn(CV_WARNING, FutureWarning)\n"
     ]
    }
   ],
   "source": [
    "model_lasso = LassoCV(alphas = [1, 0.1, 0.001, 0.0005]).fit(X_train, y)"
   ]
  },
  {
   "cell_type": "code",
   "execution_count": 0,
   "metadata": {
    "colab": {
     "base_uri": "https://localhost:8080/",
     "height": 224
    },
    "colab_type": "code",
    "id": "r5NQ7hL30gD4",
    "outputId": "47865416-9df2-436d-8f06-1d36337aa038"
   },
   "outputs": [
    {
     "name": "stderr",
     "output_type": "stream",
     "text": [
      "/usr/local/lib/python3.6/dist-packages/sklearn/model_selection/_split.py:1978: FutureWarning: The default value of cv will change from 3 to 5 in version 0.22. Specify it explicitly to silence this warning.\n",
      "  warnings.warn(CV_WARNING, FutureWarning)\n",
      "/usr/local/lib/python3.6/dist-packages/sklearn/model_selection/_split.py:1978: FutureWarning: The default value of cv will change from 3 to 5 in version 0.22. Specify it explicitly to silence this warning.\n",
      "  warnings.warn(CV_WARNING, FutureWarning)\n",
      "/usr/local/lib/python3.6/dist-packages/sklearn/model_selection/_split.py:1978: FutureWarning: The default value of cv will change from 3 to 5 in version 0.22. Specify it explicitly to silence this warning.\n",
      "  warnings.warn(CV_WARNING, FutureWarning)\n",
      "/usr/local/lib/python3.6/dist-packages/sklearn/model_selection/_split.py:1978: FutureWarning: The default value of cv will change from 3 to 5 in version 0.22. Specify it explicitly to silence this warning.\n",
      "  warnings.warn(CV_WARNING, FutureWarning)\n",
      "/usr/local/lib/python3.6/dist-packages/sklearn/model_selection/_split.py:1978: FutureWarning: The default value of cv will change from 3 to 5 in version 0.22. Specify it explicitly to silence this warning.\n",
      "  warnings.warn(CV_WARNING, FutureWarning)\n"
     ]
    },
    {
     "data": {
      "text/plain": [
       "0.12314421090977457"
      ]
     },
     "execution_count": 30,
     "metadata": {
      "tags": []
     },
     "output_type": "execute_result"
    }
   ],
   "source": [
    "rmse_cv(model_lasso).mean()"
   ]
  },
  {
   "cell_type": "code",
   "execution_count": 0,
   "metadata": {
    "colab": {},
    "colab_type": "code",
    "id": "j5X9s6lb0jIQ"
   },
   "outputs": [],
   "source": [
    "coef = pd.Series(model_lasso.coef_, index=X_train.columns)"
   ]
  },
  {
   "cell_type": "code",
   "execution_count": 0,
   "metadata": {
    "colab": {
     "base_uri": "https://localhost:8080/",
     "height": 34
    },
    "colab_type": "code",
    "id": "5_TLx7yC0rSp",
    "outputId": "5205fd29-42ed-4cc9-e4f7-f8ca3f625520"
   },
   "outputs": [
    {
     "name": "stdout",
     "output_type": "stream",
     "text": [
      "Lasso picked 110 variables and eliminated the other 178 variables\n"
     ]
    }
   ],
   "source": [
    "print(\"Lasso picked \" + str(sum(coef != 0)) + \" variables and eliminated the other \" +  str(sum(coef == 0)) + \" variables\")"
   ]
  },
  {
   "cell_type": "code",
   "execution_count": 0,
   "metadata": {
    "colab": {},
    "colab_type": "code",
    "id": "_NEtFoj40rrw"
   },
   "outputs": [],
   "source": [
    "imp_coef = pd.concat([coef.sort_values().head(10), coef.sort_values().tail(10)])"
   ]
  },
  {
   "cell_type": "code",
   "execution_count": 0,
   "metadata": {
    "colab": {
     "base_uri": "https://localhost:8080/",
     "height": 624
    },
    "colab_type": "code",
    "id": "JrkEgyT9040T",
    "outputId": "928833c8-7abf-4265-9ec7-9708032cbca7"
   },
   "outputs": [
    {
     "data": {
      "text/plain": [
       "Text(0.5, 1.0, 'Coefficients in the Lasso Model')"
      ]
     },
     "execution_count": 34,
     "metadata": {
      "tags": []
     },
     "output_type": "execute_result"
    },
    {
     "data": {
      "image/png": "[encoded data removed]",
      "text/plain": [
       "<Figure size 576x720 with 1 Axes>"
      ]
     },
     "metadata": {
      "image/png": {
       "height": 590,
       "width": 588
      },
      "tags": []
     },
     "output_type": "display_data"
    }
   ],
   "source": [
    "matplotlib.rcParams['figure.figsize'] = (8.0, 10.0)\n",
    "imp_coef.plot(kind = \"barh\")\n",
    "plt.title(\"Coefficients in the Lasso Model\")"
   ]
  },
  {
   "cell_type": "code",
   "execution_count": 0,
   "metadata": {
    "colab": {
     "base_uri": "https://localhost:8080/",
     "height": 406
    },
    "colab_type": "code",
    "id": "VH4kS7a-07XB",
    "outputId": "3f7d334f-9263-4728-c7a3-4bfb84bc2656"
   },
   "outputs": [
    {
     "data": {
      "text/plain": [
       "<matplotlib.axes._subplots.AxesSubplot at 0x7fa2b4fad390>"
      ]
     },
     "execution_count": 35,
     "metadata": {
      "tags": []
     },
     "output_type": "execute_result"
    },
    {
     "data": {
      "image/png": "[encoded data removed]",
      "text/plain": [
       "<Figure size 432x432 with 1 Axes>"
      ]
     },
     "metadata": {
      "image/png": {
       "height": 372,
       "width": 395
      },
      "tags": []
     },
     "output_type": "display_data"
    }
   ],
   "source": [
    "#let's look at the residuals as well:\n",
    "matplotlib.rcParams['figure.figsize'] = (6.0, 6.0)\n",
    "\n",
    "preds = pd.DataFrame({\"preds\":model_lasso.predict(X_train), \"true\":y})\n",
    "preds[\"residuals\"] = preds[\"true\"] - preds[\"preds\"]\n",
    "preds.plot(x = \"preds\", y = \"residuals\",kind = \"scatter\")"
   ]
  },
  {
   "cell_type": "code",
   "execution_count": 0,
   "metadata": {
    "colab": {
     "base_uri": "https://localhost:8080/",
     "height": 443
    },
    "colab_type": "code",
    "id": "-Jmu9_gR0_jp",
    "outputId": "a5815528-e383-40d1-e1b5-723d9b1956d6"
   },
   "outputs": [
    {
     "name": "stdout",
     "output_type": "stream",
     "text": [
      "Lasso picked 110 nonzero variables with alpha = 0.0005\n",
      "Lasso picked 79 nonzero variables with alpha = 0.001\n",
      "Lasso picked 8 nonzero variables with alpha = 0.1\n",
      "Lasso picked 3 nonzero variables with alpha = 1\n"
     ]
    },
    {
     "data": {
      "image/png": "[encoded data removed]",
      "text/plain": [
       "<Figure size 432x432 with 1 Axes>"
      ]
     },
     "metadata": {
      "image/png": {
       "height": 358,
       "width": 377
      },
      "tags": []
     },
     "output_type": "display_data"
    }
   ],
   "source": [
    "# Part 4\n",
    "from sklearn.linear_model import Lasso\n",
    "import matplotlib.pyplot as plt\n",
    "\n",
    "alphas = [1, 0.1, 0.001, 0.0005]\n",
    "alphas.reverse()\n",
    "io_norms = []\n",
    "\n",
    "for alpha in alphas:\n",
    "  model = Lasso(alpha=alpha).fit(X_train, y)\n",
    "  coef = pd.Series(model.coef_, index=X_train.columns)\n",
    "  io_norms.append(sum(coef != 0))\n",
    "  print(\"Lasso picked \" + str(sum(coef != 0)) + \" nonzero variables with alpha = \" + str(alpha))\n",
    "\n",
    "plt.plot(alphas, io_norms)\n",
    "plt.show()"
   ]
  },
  {
   "cell_type": "code",
   "execution_count": 0,
   "metadata": {
    "colab": {
     "base_uri": "https://localhost:8080/",
     "height": 122
    },
    "colab_type": "code",
    "id": "kT_tFWRB5O-_",
    "outputId": "e6b13d85-f80c-4148-d722-9d2386105fe2"
   },
   "outputs": [
    {
     "name": "stdout",
     "output_type": "stream",
     "text": [
      "0.9299587783131811\n",
      "0.9308222956470587\n"
     ]
    },
    {
     "name": "stderr",
     "output_type": "stream",
     "text": [
      "/usr/local/lib/python3.6/dist-packages/sklearn/model_selection/_split.py:1978: FutureWarning: The default value of cv will change from 3 to 5 in version 0.22. Specify it explicitly to silence this warning.\n",
      "  warnings.warn(CV_WARNING, FutureWarning)\n"
     ]
    },
    {
     "name": "stdout",
     "output_type": "stream",
     "text": [
      "0.9311115533305049\n"
     ]
    }
   ],
   "source": [
    "# Part 5\n",
    "\n",
    "# Train Ridge model\n",
    "from sklearn.linear_model import Ridge, RidgeCV, ElasticNet, LassoCV, LassoLarsCV\n",
    "from sklearn.model_selection import cross_val_score\n",
    "\n",
    "# Train Lasso and Ridge Model\n",
    "alphas = [0.05, 0.1, 0.3, 1, 3, 5, 10, 15, 30, 50, 75]\n",
    "model_ridge_cv = RidgeCV(alphas=alphas, cv=5).fit(X_train, y)\n",
    "print(model_ridge_cv.score(X_train, y))\n",
    "model_lasso.fit(X_train, y)\n",
    "print(model_lasso.score(X_train, y))\n",
    "\n",
    "# Predict output\n",
    "y_pred_ridge = np.array([model_ridge_cv.predict(X_train)]).T\n",
    "y_pred_lasso = np.array([model_lasso.predict(X_train)]).T\n",
    "\n",
    "X_train_new = np.array(X_train)\n",
    "X_train_new = np.concatenate((X_train_new, y_pred_ridge, y_pred_lasso), axis=1)\n",
    "\n",
    "model_ridge_stack = RidgeCV(alphas=alphas, cv=5).fit(X_train_new, y)\n",
    "y_stack = model_ridge_stack.predict(X_train_new)\n",
    "R2 = model_ridge_stack.score(X_train_new, y)\n",
    "print(R2)\n",
    "\n",
    "print(\"Stacking was useless here.\")"
   ]
  },
  {
   "cell_type": "code",
   "execution_count": 0,
   "metadata": {
    "colab": {},
    "colab_type": "code",
    "id": "TSL2-T-W61QC"
   },
   "outputs": [],
   "source": []
  },
  {
   "cell_type": "markdown",
   "metadata": {
    "colab_type": "text",
    "id": "SujpluGOA6f6"
   },
   "source": [
    "###XGBoost"
   ]
  },
  {
   "cell_type": "code",
   "execution_count": 0,
   "metadata": {
    "colab": {},
    "colab_type": "code",
    "id": "HGgcpsTxBAUy"
   },
   "outputs": [],
   "source": []
  }
 ],
 "metadata": {
  "colab": {
   "collapsed_sections": [
    "suedHR-j74Io",
    "vXzTOG_NHcGT",
    "w_iYtby479CY"
   ],
   "name": "Lab 7.ipynb",
   "provenance": [],
   "toc_visible": true
  },
  "kernelspec": {
   "display_name": "Python 3",
   "language": "python",
   "name": "python3"
  },
  "language_info": {
   "codemirror_mode": {
    "name": "ipython",
    "version": 3
   },
   "file_extension": ".py",
   "mimetype": "text/x-python",
   "name": "python",
   "nbconvert_exporter": "python",
   "pygments_lexer": "ipython3",
   "version": "3.7.4"
  }
 },
 "nbformat": 4,
 "nbformat_minor": 1
}

{
  "nbformat": 4,
  "nbformat_minor": 0,
  "metadata": {
    "colab": {
      "name": "Lab 3.ipynb",
      "provenance": [],
      "collapsed_sections": [],
      "toc_visible": true
    },
    "kernelspec": {
      "name": "python3",
      "display_name": "Python 3"
    }
  },
  "cells": [
    {
      "cell_type": "markdown",
      "metadata": {
        "id": "Elw0jGwSVr6Y",
        "colab_type": "text"
      },
      "source": [
        "# Lab 3\n"
      ]
    },
    {
      "cell_type": "markdown",
      "metadata": {
        "id": "EJFAigMtVvrQ",
        "colab_type": "text"
      },
      "source": [
        "## Problem 1: Ridge Regression and Co-linearity"
      ]
    },
    {
      "cell_type": "code",
      "metadata": {
        "id": "PbYSdvDwUDDS",
        "colab_type": "code",
        "colab": {}
      },
      "source": [
        "from __future__ import division\n",
        "import numpy as np\n",
        "import matplotlib.pyplot as plt\n",
        "from sklearn import datasets, linear_model\n",
        "import pandas as pd\n",
        "from pandas import DataFrame, Series\n",
        "import seaborn as sns\n",
        "#from sklearn.cross_validation import train_test_split\n",
        "from sklearn.model_selection import train_test_split\n",
        "sns.set(style='ticks', palette='Set2')\n",
        "%matplotlib inline"
      ],
      "execution_count": 0,
      "outputs": []
    },
    {
      "cell_type": "code",
      "metadata": {
        "id": "r_6TFDg5UGju",
        "colab_type": "code",
        "colab": {}
      },
      "source": [
        "# correlated columns\n",
        "# Suppose p = 5, n = 500 -- a good ratio\n",
        "p = 5; n = 500\n",
        "X = np.random.randn(n,p)\n",
        "c = np.dot(X[:,0:p-1],[2,3,-1,0.5]) + np.random.randn(1,n)/1000;\n",
        "# c is a column that is approximately a linear combination of\n",
        "# columns 1, 2, 3 and 4. We set the 5th column of X equal to c\n",
        "X[:,p-1] = c\n",
        "beta = np.array([1,1,1,1,0])\n",
        "sigma = 0.33\n",
        "y = np.dot(X,beta) + sigma*np.random.randn(n)\n",
        "# Now let's also generate a test data set\n",
        "n1 = 500 # number of testing points\n",
        "X_test = np.random.randn(n1,p)\n",
        "c_test = np.dot(X_test[:,0:p-1],[2,3,0,0.5]) + np.random.randn(1,n1)/1000;\n",
        "X_test[:,p-1] = c_test\n",
        "y_test = np.dot(X_test,beta) + sigma*np.random.randn(n1)"
      ],
      "execution_count": 0,
      "outputs": []
    },
    {
      "cell_type": "code",
      "metadata": {
        "id": "dkVhtUQkU3gy",
        "colab_type": "code",
        "outputId": "00d639ee-a5fc-4a11-c148-5fa3f32017c7",
        "colab": {
          "base_uri": "https://localhost:8080/",
          "height": 51
        }
      },
      "source": [
        "# Note that the matrix Z = X'X has a very small eigenvalue.\n",
        "Z = np.dot(X.T,X)\n",
        "np.linalg.eig(Z)[0]"
      ],
      "execution_count": 0,
      "outputs": [
        {
          "output_type": "execute_result",
          "data": {
            "text/plain": [
              "array([7.57599170e+03, 3.07555043e-05, 5.19260953e+02, 4.43074226e+02,\n",
              "       4.66616666e+02])"
            ]
          },
          "metadata": {
            "tags": []
          },
          "execution_count": 4
        }
      ]
    },
    {
      "cell_type": "code",
      "metadata": {
        "id": "5HkeO-TxU47A",
        "colab_type": "code",
        "outputId": "80af90b8-d58f-45f8-ca66-7b87dc7bec36",
        "colab": {
          "base_uri": "https://localhost:8080/",
          "height": 51
        }
      },
      "source": [
        "# That means that its inverse has some very big eigenvalues.\n",
        "# In fact, recall that the eigenvalues of the inverse matrix\n",
        "# are always the inverse (one over) the eigenvalues of the original\n",
        "# matrix.\n",
        "np.linalg.eig(np.linalg.inv(Z))[0]"
      ],
      "execution_count": 0,
      "outputs": [
        {
          "output_type": "execute_result",
          "data": {
            "text/plain": [
              "array([3.25145049e+04, 1.31995921e-04, 2.25695819e-03, 2.14308677e-03,\n",
              "       1.92581398e-03])"
            ]
          },
          "metadata": {
            "tags": []
          },
          "execution_count": 5
        }
      ]
    },
    {
      "cell_type": "code",
      "metadata": {
        "id": "2Lwwz2LRUuID",
        "colab_type": "code",
        "outputId": "ac2ec407-7dae-487c-94cc-e9573b19d6b3",
        "colab": {
          "base_uri": "https://localhost:8080/",
          "height": 34
        }
      },
      "source": [
        "# And remember that the formula for beta is\n",
        "# beta_hat = (X'X)^-1 X'y\n",
        "# and if we plug in: y = X beta* + Noise \n",
        "# (where beta* is the true solution), we get\n",
        "# beta_hat = beta* + (X'X)^-1 X' Noise\n",
        "#\n",
        "# Multiplying the noise by (X'X)^-1 has the potential to blow up the noise\n",
        "# and this is exactly what happens.\n",
        "\n",
        "beta_hat = np.dot(np.dot(np.linalg.inv(Z),X.T),y.T)\n",
        "print(beta_hat)"
      ],
      "execution_count": 0,
      "outputs": [
        {
          "output_type": "stream",
          "text": [
            "[-0.36408915 -1.02088262  1.656919    0.62913553  0.67507608]\n"
          ],
          "name": "stdout"
        }
      ]
    },
    {
      "cell_type": "code",
      "metadata": {
        "id": "xXJWsIL7UcMq",
        "colab_type": "code",
        "outputId": "4319c5eb-2850-4020-98b0-84f56dfa6e50",
        "colab": {
          "base_uri": "https://localhost:8080/",
          "height": 34
        }
      },
      "source": [
        "# Now let's compute the test error of OLS.\n",
        "# You can see that it's not that good (it's big).\n",
        "np.linalg.norm(np.dot(X_test,beta_hat) - y_test) "
      ],
      "execution_count": 0,
      "outputs": [
        {
          "output_type": "execute_result",
          "data": {
            "text/plain": [
              "16.714179449956287"
            ]
          },
          "metadata": {
            "tags": []
          },
          "execution_count": 7
        }
      ]
    },
    {
      "cell_type": "code",
      "metadata": {
        "id": "CB4f_pL4Upr9",
        "colab_type": "code",
        "outputId": "78e911e6-ead2-436a-95eb-9a56ce9220ae",
        "colab": {
          "base_uri": "https://localhost:8080/",
          "height": 34
        }
      },
      "source": [
        "## 2\n",
        "zeros_soln = np.zeros(len(beta_hat))\n",
        "np.linalg.norm(np.dot(X_test, zeros_soln) - y_test)"
      ],
      "execution_count": 0,
      "outputs": [
        {
          "output_type": "execute_result",
          "data": {
            "text/plain": [
              "44.57267356468185"
            ]
          },
          "metadata": {
            "tags": []
          },
          "execution_count": 8
        }
      ]
    },
    {
      "cell_type": "code",
      "metadata": {
        "id": "iofOy-3vVoLN",
        "colab_type": "code",
        "outputId": "cbb1a388-f12d-4a42-8522-8ac6352cd1a2",
        "colab": {
          "base_uri": "https://localhost:8080/",
          "height": 301
        }
      },
      "source": [
        "## 3\n",
        "p = 5; n = 500; num_trials = 1000\n",
        "beta = np.array([1,1,1,1,0])\n",
        "\n",
        "beta_hats = []\n",
        "mean_beta_hats = []\n",
        "num_trials = 1000\n",
        "for i in range(num_trials):\n",
        "    X = np.random.randn(n,p)\n",
        "    c = np.dot(X[:,0:p-1],[2,3,-1,0.5]) + np.random.randn(1,n)/1000;\n",
        "    # c is a column that is approximately a linear combination of\n",
        "    # columns 1, 2, 3 and 4. We set the 5th column of X equal to c\n",
        "    X[:,p-1] = c\n",
        "    sigma = 0.33\n",
        "    y = np.dot(X,beta) + sigma*np.random.randn(n)\n",
        "    Z = np.matmul(X.T, X)\n",
        "    beta_hat = np.dot(np.dot(np.linalg.inv(Z),X.T),y)\n",
        "    # print(beta_hat)\n",
        "    beta_hats.append(beta_hat)\n",
        "    # print(np.mean(beta_hats, axis=0))\n",
        "    # print()\n",
        "    mean_beta_hats.append(np.mean(beta_hats, axis=0))\n",
        "\n",
        "n = list(range(1, num_trials+1))\n",
        "\n",
        "ax = plt.gca()\n",
        "# ax.set_prop_cycle(['b', 'r', 'g', 'c', 'k', 'y', 'm'])\n",
        "\n",
        "ax.plot(n, mean_beta_hats)\n",
        "# ax.set_xscale('log')\n",
        "plt.xlabel('num_samples')\n",
        "plt.ylabel('weights')\n",
        "plt.title('Least-sqaure coefficients approaches true values over many X datasets')\n",
        "plt.axis('tight')\n",
        "# plt.ylim((0, 2))\n",
        "plt.show()"
      ],
      "execution_count": 0,
      "outputs": [
        {
          "output_type": "display_data",
          "data": {
            "image/png": "[encoded data removed]",
            "text/plain": [
              "<Figure size 432x288 with 1 Axes>"
            ]
          },
          "metadata": {
            "tags": []
          }
        }
      ]
    },
    {
      "cell_type": "code",
      "metadata": {
        "id": "CJEANEWBhojG",
        "colab_type": "code",
        "colab": {}
      },
      "source": [
        "## 4\n",
        "\n",
        "import time\n",
        "startTime = time.time()"
      ],
      "execution_count": 0,
      "outputs": []
    },
    {
      "cell_type": "code",
      "metadata": {
        "id": "7z1X8pRikF7k",
        "colab_type": "code",
        "outputId": "ddd341ed-e23e-4938-bb21-2f02513323cb",
        "colab": {
          "base_uri": "https://localhost:8080/",
          "height": 1000
        }
      },
      "source": [
        "num_datapoints = 1000000\n",
        "num_batches = 100\n",
        "batch_size = num_datapoints / num_batches\n",
        "num_features = 100\n",
        "beta = np.array([1] * num_features)\n",
        "\n",
        "startTime = time.time()\n",
        "X = np.random.randn(num_datapoints, num_features)\n",
        "y = np.random.randn(num_datapoints, 1)\n",
        "beta_hat = np.dot(np.dot(np.linalg.inv(np.matmul(X.T, X)), X.T), y)\n",
        "print(beta_hat)\n",
        "endTime = time.time()\n",
        "print(endTime - startTime, '\\n')\n",
        "\n",
        "startTime = time.time()\n",
        "beta_b_hats = []\n",
        "for i in range(num_batches):\n",
        "  lower = int(batch_size * i)\n",
        "  upper = int(batch_size * (i + 1))\n",
        "  X_b = X[lower : upper]\n",
        "  y_b = y[lower : upper]\n",
        "  beta_b_hat = np.dot(np.dot(np.linalg.inv(np.matmul(X_b.T, X_b)), X_b.T), y_b)\n",
        "  beta_b_hats.append(beta_b_hat)\n",
        "\n",
        "print(np.mean(beta_b_hats, axis=0))\n",
        "endTime = time.time()\n",
        "print(endTime - startTime, '\\n')"
      ],
      "execution_count": 0,
      "outputs": [
        {
          "output_type": "stream",
          "text": [
            "[[-1.35678408e-03]\n",
            " [-5.24722700e-05]\n",
            " [-1.34354756e-03]\n",
            " [-7.78823588e-04]\n",
            " [ 7.65513883e-04]\n",
            " [ 5.18370612e-04]\n",
            " [-1.26070798e-03]\n",
            " [-1.55398843e-03]\n",
            " [ 6.81808186e-04]\n",
            " [-2.72301372e-04]\n",
            " [-1.04339721e-03]\n",
            " [ 3.25408149e-04]\n",
            " [ 1.25101324e-03]\n",
            " [ 1.38427567e-03]\n",
            " [-3.50300737e-04]\n",
            " [-1.10026173e-03]\n",
            " [ 1.02490931e-03]\n",
            " [-4.25686072e-04]\n",
            " [-4.90180252e-04]\n",
            " [ 1.76231256e-03]\n",
            " [ 2.45586030e-05]\n",
            " [ 6.05977634e-04]\n",
            " [-4.68380198e-04]\n",
            " [-2.09279667e-03]\n",
            " [-1.26131777e-03]\n",
            " [-2.05352248e-03]\n",
            " [ 8.42198536e-04]\n",
            " [ 1.76691617e-03]\n",
            " [ 1.44449725e-04]\n",
            " [ 8.72811281e-06]\n",
            " [-1.02388602e-04]\n",
            " [-5.56810025e-05]\n",
            " [ 4.88721651e-04]\n",
            " [-4.22692614e-05]\n",
            " [-2.25804932e-03]\n",
            " [ 9.32807310e-04]\n",
            " [-4.84470254e-05]\n",
            " [ 1.51251268e-03]\n",
            " [-7.40597212e-04]\n",
            " [ 4.81908715e-04]\n",
            " [-4.87668421e-04]\n",
            " [-1.62275096e-03]\n",
            " [ 3.12105988e-04]\n",
            " [ 5.23150441e-04]\n",
            " [-2.46690205e-04]\n",
            " [ 8.73271793e-05]\n",
            " [ 4.36125847e-04]\n",
            " [ 2.14895884e-03]\n",
            " [ 5.58311934e-05]\n",
            " [-1.47998022e-03]\n",
            " [-7.20272441e-04]\n",
            " [ 5.64439337e-05]\n",
            " [-6.21235139e-04]\n",
            " [-5.23801882e-04]\n",
            " [ 1.16362888e-03]\n",
            " [ 2.61962391e-04]\n",
            " [ 1.13930161e-04]\n",
            " [ 1.71247227e-03]\n",
            " [ 5.03255485e-04]\n",
            " [-5.34936448e-04]\n",
            " [-1.36722990e-03]\n",
            " [-3.95704380e-04]\n",
            " [-9.69952434e-04]\n",
            " [-3.15041954e-04]\n",
            " [-7.22130563e-04]\n",
            " [-1.29928813e-03]\n",
            " [ 4.56708934e-04]\n",
            " [-8.87830140e-04]\n",
            " [ 1.47436887e-03]\n",
            " [ 6.55791495e-04]\n",
            " [-9.50385604e-04]\n",
            " [ 2.30832228e-05]\n",
            " [-4.26019724e-04]\n",
            " [-2.24418790e-04]\n",
            " [ 2.79097395e-04]\n",
            " [-7.61709745e-04]\n",
            " [ 1.56407101e-04]\n",
            " [-7.07386686e-04]\n",
            " [ 1.32640467e-04]\n",
            " [-1.67599670e-03]\n",
            " [-4.26050886e-04]\n",
            " [-1.77515532e-04]\n",
            " [ 6.55318372e-04]\n",
            " [ 9.79919277e-05]\n",
            " [-1.40292347e-04]\n",
            " [-1.27918756e-03]\n",
            " [ 6.28466102e-04]\n",
            " [-2.10252207e-03]\n",
            " [ 6.14185998e-05]\n",
            " [ 2.63334954e-04]\n",
            " [-1.60756020e-03]\n",
            " [ 3.83597138e-04]\n",
            " [ 6.85363834e-04]\n",
            " [-1.97484709e-05]\n",
            " [-4.02674231e-04]\n",
            " [-5.86368442e-04]\n",
            " [-1.96307863e-04]\n",
            " [ 7.57960418e-04]\n",
            " [ 1.06678259e-03]\n",
            " [-1.07641305e-03]]\n",
            "7.443124055862427 \n",
            "\n",
            "[[-1.40344879e-03]\n",
            " [ 1.47290149e-06]\n",
            " [-1.29775111e-03]\n",
            " [-9.75242389e-04]\n",
            " [ 7.30464417e-04]\n",
            " [ 6.17213900e-04]\n",
            " [-1.37912523e-03]\n",
            " [-1.68409498e-03]\n",
            " [ 7.33011443e-04]\n",
            " [-2.64118952e-04]\n",
            " [-1.10099827e-03]\n",
            " [ 1.94767990e-04]\n",
            " [ 1.18566040e-03]\n",
            " [ 1.40290263e-03]\n",
            " [-2.75506555e-04]\n",
            " [-1.20753372e-03]\n",
            " [ 9.44710498e-04]\n",
            " [-4.92979211e-04]\n",
            " [-4.17360588e-04]\n",
            " [ 1.85682661e-03]\n",
            " [-1.16938628e-05]\n",
            " [ 6.87056279e-04]\n",
            " [-4.33077796e-04]\n",
            " [-2.05574344e-03]\n",
            " [-1.18987990e-03]\n",
            " [-2.03723882e-03]\n",
            " [ 9.04772939e-04]\n",
            " [ 1.67171201e-03]\n",
            " [ 1.77912624e-04]\n",
            " [-8.21082415e-05]\n",
            " [ 2.03557338e-05]\n",
            " [-8.97396323e-05]\n",
            " [ 4.17331319e-04]\n",
            " [-2.72403038e-05]\n",
            " [-2.36629769e-03]\n",
            " [ 7.39553519e-04]\n",
            " [-1.32341815e-04]\n",
            " [ 1.33594850e-03]\n",
            " [-7.96277279e-04]\n",
            " [ 5.40156884e-04]\n",
            " [-3.32626577e-04]\n",
            " [-1.68116516e-03]\n",
            " [ 4.09923848e-04]\n",
            " [ 6.38465414e-04]\n",
            " [-2.15623059e-04]\n",
            " [ 1.97803197e-04]\n",
            " [ 3.51738510e-04]\n",
            " [ 2.12992432e-03]\n",
            " [ 5.86423474e-06]\n",
            " [-1.53270190e-03]\n",
            " [-6.12966398e-04]\n",
            " [-9.94791886e-05]\n",
            " [-6.44992564e-04]\n",
            " [-5.76472967e-04]\n",
            " [ 1.14069779e-03]\n",
            " [ 2.33459309e-04]\n",
            " [ 1.11998347e-05]\n",
            " [ 1.71998905e-03]\n",
            " [ 5.43306665e-04]\n",
            " [-3.74360551e-04]\n",
            " [-1.35492123e-03]\n",
            " [-5.21802271e-04]\n",
            " [-1.17026789e-03]\n",
            " [-2.58916893e-04]\n",
            " [-6.30660476e-04]\n",
            " [-1.32214486e-03]\n",
            " [ 4.95096894e-04]\n",
            " [-7.83652312e-04]\n",
            " [ 1.54091736e-03]\n",
            " [ 6.06233852e-04]\n",
            " [-9.03011549e-04]\n",
            " [ 3.92924321e-06]\n",
            " [-5.38193224e-04]\n",
            " [-1.04187373e-04]\n",
            " [ 5.73431348e-05]\n",
            " [-9.64284444e-04]\n",
            " [ 2.74196027e-04]\n",
            " [-8.17539804e-04]\n",
            " [ 3.36503686e-04]\n",
            " [-1.85869797e-03]\n",
            " [-4.20674742e-04]\n",
            " [-1.79041181e-04]\n",
            " [ 6.42013271e-04]\n",
            " [-8.83042501e-05]\n",
            " [-2.58334750e-05]\n",
            " [-1.24511117e-03]\n",
            " [ 5.79534305e-04]\n",
            " [-1.95962265e-03]\n",
            " [ 6.12002823e-05]\n",
            " [ 2.49518796e-04]\n",
            " [-1.66533266e-03]\n",
            " [ 3.24452738e-04]\n",
            " [ 7.32769508e-04]\n",
            " [ 6.33856689e-05]\n",
            " [-2.93290411e-04]\n",
            " [-5.69319774e-04]\n",
            " [-1.72479944e-04]\n",
            " [ 9.35369107e-04]\n",
            " [ 1.18383440e-03]\n",
            " [-1.14871605e-03]]\n",
            "2.2765274047851562 \n",
            "\n"
          ],
          "name": "stdout"
        }
      ]
    },
    {
      "cell_type": "code",
      "metadata": {
        "id": "dNZUUtWjlPiJ",
        "colab_type": "code",
        "colab": {}
      },
      "source": [
        ""
      ],
      "execution_count": 0,
      "outputs": []
    },
    {
      "cell_type": "markdown",
      "metadata": {
        "id": "MomFM-jW70KI",
        "colab_type": "text"
      },
      "source": [
        "## Problem 2: Starting in Kaggle"
      ]
    },
    {
      "cell_type": "markdown",
      "metadata": {
        "id": "HNV-Q_XW77t4",
        "colab_type": "text"
      },
      "source": [
        "1) Done.\n",
        "\n",
        "2) RMSE = 0.13029\n",
        "\n",
        "3) With a single regression model, we found a score of: 0.12224. With a single lasso model, we found a score of: 0.12105.\n",
        "\n",
        "4) Next cell.\n",
        "\n",
        "5) RMSE = 0.12161\n",
        "\n",
        "9) Done."
      ]
    },
    {
      "cell_type": "code",
      "metadata": {
        "id": "j_IY_dZm9DC8",
        "colab_type": "code",
        "outputId": "7a34510e-2d70-44c0-d093-530c4254f488",
        "colab": {
          "base_uri": "https://localhost:8080/",
          "height": 764
        }
      },
      "source": [
        "from PIL import Image\n",
        "from IPython.display import display\n",
        "im = Image.open(\"l0normvsalpha.png\")\n",
        "display(im)"
      ],
      "execution_count": 0,
      "outputs": [
        {
          "output_type": "display_data",
          "data": {
            "image/png": "[encoded data removed]",
            "text/plain": [
              "<PIL.PngImagePlugin.PngImageFile image mode=RGB size=626x747 at 0x7F46A5C51668>"
            ]
          },
          "metadata": {
            "tags": []
          }
        }
      ]
    }
  ]
}
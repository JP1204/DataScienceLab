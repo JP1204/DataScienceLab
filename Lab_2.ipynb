{
 "cells": [
  {
   "cell_type": "markdown",
   "metadata": {
    "colab_type": "text",
    "id": "nPqWlzYBSYKo"
   },
   "source": [
    "# Lab 2\n"
   ]
  },
  {
   "cell_type": "markdown",
   "metadata": {
    "colab_type": "text",
    "id": "ub1KyZVNSbjW"
   },
   "source": [
    "Written by Jimmy Phan, Yash Parakh, and Matthew Prinz"
   ]
  },
  {
   "cell_type": "markdown",
   "metadata": {
    "colab_type": "text",
    "id": "crsZtJmTbktn"
   },
   "source": [
    "## 1. Correlations"
   ]
  },
  {
   "cell_type": "markdown",
   "metadata": {
    "colab_type": "text",
    "id": "TRY9-LDIlIBK"
   },
   "source": [
    "\n",
    "\n",
    "*   read data in pandas AND seaborn\n",
    "\n"
   ]
  },
  {
   "cell_type": "code",
   "execution_count": 2,
   "metadata": {
    "colab": {
     "base_uri": "https://localhost:8080/",
     "height": 74,
     "resources": {
      "http://localhost:8080/nbextensions/google.colab/files.js": {
       "data": "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",
       "headers": [
        [
         "content-type",
         "application/javascript"
        ]
       ],
       "ok": true,
       "status": 200,
       "status_text": ""
      }
     }
    },
    "colab_type": "code",
    "id": "nqeRexFueJdM",
    "outputId": "462fd679-1c44-4c2c-c69c-9e6ecf269fe1"
   },
   "outputs": [],
   "source": [
    "# from google.colab import files\n",
    "# uploaded = files.upload()\n",
    "\n",
    "import numpy as np\n",
    "import pandas as pd\n",
    "import io\n",
    "import seaborn as sns\n",
    "import matplotlib.pyplot as plt\n"
   ]
  },
  {
   "cell_type": "code",
   "execution_count": 3,
   "metadata": {
    "colab": {
     "base_uri": "https://localhost:8080/",
     "height": 204
    },
    "colab_type": "code",
    "id": "euFTz9Whbe4m",
    "outputId": "72eb4632-3e74-4ff7-813a-2b75fc778353"
   },
   "outputs": [
    {
     "ename": "NameError",
     "evalue": "name 'uploaded' is not defined",
     "output_type": "error",
     "traceback": [
      "\u001b[0;31m---------------------------------------------------------------------------\u001b[0m",
      "\u001b[0;31mNameError\u001b[0m                                 Traceback (most recent call last)",
      "\u001b[0;32m<ipython-input-3-71b5b6555760>\u001b[0m in \u001b[0;36m<module>\u001b[0;34m\u001b[0m\n\u001b[1;32m      1\u001b[0m \u001b[0;31m# uploaded['DF1']\u001b[0m\u001b[0;34m\u001b[0m\u001b[0;34m\u001b[0m\u001b[0;34m\u001b[0m\u001b[0m\n\u001b[0;32m----> 2\u001b[0;31m \u001b[0mdf1\u001b[0m \u001b[0;34m=\u001b[0m \u001b[0mpd\u001b[0m\u001b[0;34m.\u001b[0m\u001b[0mread_csv\u001b[0m\u001b[0;34m(\u001b[0m\u001b[0mio\u001b[0m\u001b[0;34m.\u001b[0m\u001b[0mBytesIO\u001b[0m\u001b[0;34m(\u001b[0m\u001b[0muploaded\u001b[0m\u001b[0;34m[\u001b[0m\u001b[0;34m'DF1'\u001b[0m\u001b[0;34m]\u001b[0m\u001b[0;34m)\u001b[0m\u001b[0;34m,\u001b[0m \u001b[0mdelimiter\u001b[0m\u001b[0;34m=\u001b[0m\u001b[0;34m','\u001b[0m\u001b[0;34m,\u001b[0m \u001b[0mnames\u001b[0m\u001b[0;34m=\u001b[0m\u001b[0;34m[\u001b[0m\u001b[0;34m'index'\u001b[0m\u001b[0;34m,\u001b[0m \u001b[0;34m'0'\u001b[0m\u001b[0;34m,\u001b[0m \u001b[0;34m'1'\u001b[0m\u001b[0;34m,\u001b[0m \u001b[0;34m'2'\u001b[0m\u001b[0;34m,\u001b[0m \u001b[0;34m'3'\u001b[0m\u001b[0;34m]\u001b[0m\u001b[0;34m)\u001b[0m\u001b[0;34m.\u001b[0m\u001b[0mdrop\u001b[0m\u001b[0;34m(\u001b[0m\u001b[0;36m0\u001b[0m\u001b[0;34m)\u001b[0m\u001b[0;34m.\u001b[0m\u001b[0mdrop\u001b[0m\u001b[0;34m(\u001b[0m\u001b[0;34m'index'\u001b[0m\u001b[0;34m,\u001b[0m \u001b[0maxis\u001b[0m\u001b[0;34m=\u001b[0m\u001b[0;36m1\u001b[0m\u001b[0;34m)\u001b[0m\u001b[0;34m\u001b[0m\u001b[0;34m\u001b[0m\u001b[0m\n\u001b[0m\u001b[1;32m      3\u001b[0m \u001b[0mdf1\u001b[0m\u001b[0;34m.\u001b[0m\u001b[0mhead\u001b[0m\u001b[0;34m(\u001b[0m\u001b[0;34m)\u001b[0m\u001b[0;34m\u001b[0m\u001b[0;34m\u001b[0m\u001b[0m\n",
      "\u001b[0;31mNameError\u001b[0m: name 'uploaded' is not defined"
     ]
    }
   ],
   "source": [
    "# uploaded['DF1']\n",
    "df1 = pd.read_csv(io.BytesIO(uploaded['DF1']), delimiter=',', names=['index', '0', '1', '2', '3']).drop(0).drop('index', axis=1)\n",
    "df1.head()"
   ]
  },
  {
   "cell_type": "code",
   "execution_count": null,
   "metadata": {
    "colab": {
     "base_uri": "https://localhost:8080/",
     "height": 729
    },
    "colab_type": "code",
    "id": "biZgfJvcEw_x",
    "outputId": "94f44e9d-5e88-41b0-82c2-f3ea1d581c49"
   },
   "outputs": [],
   "source": [
    "# Seaborn implementation \n",
    "sns.pairplot(df1)\n",
    "sns.despine()"
   ]
  },
  {
   "cell_type": "code",
   "execution_count": null,
   "metadata": {
    "colab": {
     "base_uri": "https://localhost:8080/",
     "height": 1000
    },
    "colab_type": "code",
    "id": "PT4n6bUahLDb",
    "outputId": "6c5806da-4b20-43c1-d348-44c0b901df7d"
   },
   "outputs": [],
   "source": [
    "# Pandas implementation\n",
    "for i in range(0, len(df1.columns)):\n",
    "  for j in range(i + 1, len(df1.columns)):\n",
    "    df1.plot.scatter(x=str(i), y=str(j), c='DarkBlue')"
   ]
  },
  {
   "cell_type": "markdown",
   "metadata": {
    "colab_type": "text",
    "id": "fZ-50lGmlTy_"
   },
   "source": [
    "\n",
    "\n",
    "*   Compute covariance matrix\n",
    "\n",
    "\n",
    "\n",
    "1.   Strong positive correlation between columns 2 and 0 (strong positive covariance of .99)\n",
    "2.   Strong negative correlation between columns 1 and 3 (strong negative covariance of -0.99)\n",
    "\n",
    "\n",
    "\n"
   ]
  },
  {
   "cell_type": "code",
   "execution_count": null,
   "metadata": {
    "colab": {
     "base_uri": "https://localhost:8080/",
     "height": 173
    },
    "colab_type": "code",
    "id": "vriop4GZlY4K",
    "outputId": "5bd01610-c83f-48f2-8d41-486a7488b9df"
   },
   "outputs": [],
   "source": [
    "# need to write explicit expression for this too\n",
    "df1.cov()"
   ]
  },
  {
   "cell_type": "markdown",
   "metadata": {
    "colab_type": "text",
    "id": "DL9ZS4Fzo5cV"
   },
   "source": [
    "\n",
    "\n",
    "*   Gaussian Random Vector\n",
    "\n"
   ]
  },
  {
   "cell_type": "code",
   "execution_count": null,
   "metadata": {
    "colab": {
     "base_uri": "https://localhost:8080/",
     "height": 286
    },
    "colab_type": "code",
    "id": "kbUmQY7upDgq",
    "outputId": "eb35b508-ad84-4925-cd0e-3b0618d531e1"
   },
   "outputs": [],
   "source": [
    "mean = [0, 0, 0]\n",
    "cov = [[1, 0, 0],\n",
    "       [0, 1, 1],\n",
    "       [0, 1, 1]]\n",
    "samples = []\n",
    "cov_list = []\n",
    "num_samples = 1000\n",
    "for i in range(num_samples):\n",
    "  samples.append(list(np.random.multivariate_normal(mean, cov)))\n",
    "  if i > 1:\n",
    "    cov_list.append(pd.DataFrame(samples).cov().iloc[1][2])\n",
    "\n",
    "sns.scatterplot(x=[i for i in range(len(cov_list))], y=cov_list)"
   ]
  },
  {
   "cell_type": "code",
   "execution_count": null,
   "metadata": {
    "colab": {
     "base_uri": "https://localhost:8080/",
     "height": 142
    },
    "colab_type": "code",
    "id": "y0G4EEAPd-Xd",
    "outputId": "fcad7a6b-1582-4caf-f628-5c5fc71d3908"
   },
   "outputs": [],
   "source": [
    "samples = []\n",
    "for i in range(100):\n",
    "  samples.append(list(np.random.multivariate_normal(mean, cov)))\n",
    "\n",
    "pd.DataFrame(samples).cov()"
   ]
  },
  {
   "cell_type": "markdown",
   "metadata": {
    "colab_type": "text",
    "id": "6PfMaczjrFZH"
   },
   "source": [
    "## 2. Outliers"
   ]
  },
  {
   "cell_type": "code",
   "execution_count": 4,
   "metadata": {
    "colab": {
     "base_uri": "https://localhost:8080/",
     "height": 74,
     "resources": {
      "http://localhost:8080/nbextensions/google.colab/files.js": {
       "data": "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",
       "headers": [
        [
         "content-type",
         "application/javascript"
        ]
       ],
       "ok": true,
       "status": 200,
       "status_text": ""
      }
     }
    },
    "colab_type": "code",
    "id": "aglA9XRXrK8R",
    "outputId": "62ec73bf-28f8-4d56-871b-78c0157c66ae"
   },
   "outputs": [
    {
     "ename": "NameError",
     "evalue": "name 'files' is not defined",
     "output_type": "error",
     "traceback": [
      "\u001b[0;31m---------------------------------------------------------------------------\u001b[0m",
      "\u001b[0;31mNameError\u001b[0m                                 Traceback (most recent call last)",
      "\u001b[0;32m<ipython-input-4-51f897e350ea>\u001b[0m in \u001b[0;36m<module>\u001b[0;34m\u001b[0m\n\u001b[1;32m      1\u001b[0m \u001b[0;32mfrom\u001b[0m \u001b[0mscipy\u001b[0m \u001b[0;32mimport\u001b[0m \u001b[0mstats\u001b[0m\u001b[0;34m\u001b[0m\u001b[0;34m\u001b[0m\u001b[0m\n\u001b[0;32m----> 2\u001b[0;31m \u001b[0muploaded2\u001b[0m \u001b[0;34m=\u001b[0m \u001b[0mfiles\u001b[0m\u001b[0;34m.\u001b[0m\u001b[0mupload\u001b[0m\u001b[0;34m(\u001b[0m\u001b[0;34m)\u001b[0m\u001b[0;34m\u001b[0m\u001b[0;34m\u001b[0m\u001b[0m\n\u001b[0m",
      "\u001b[0;31mNameError\u001b[0m: name 'files' is not defined"
     ]
    }
   ],
   "source": [
    "from scipy import stats\n",
    "uploaded2 = files.upload()"
   ]
  },
  {
   "cell_type": "code",
   "execution_count": null,
   "metadata": {
    "colab": {
     "base_uri": "https://localhost:8080/",
     "height": 287
    },
    "colab_type": "code",
    "id": "sYL2vRvwrRgN",
    "outputId": "174b1516-ba4b-49fa-b3fb-be1425714348"
   },
   "outputs": [],
   "source": [
    "from numpy import linalg as la\n",
    "df2 = pd.read_csv(io.BytesIO(uploaded2['DF2']), names=['index', '0', '1']).drop(0).drop('index', axis=1)\n",
    "# df2.plot.scatter(x='0', y='1')\n",
    "# slope, intercept, r_value, p_value, std_err = stats.linregress(df2.values[:,0],df2.values[:,1])\n",
    "# line = slope*df2.values[:,0]+intercept\n",
    "# plt.plot(df2.values[:,0],df2.values[:,1],'o',df2.values[:,0],line)\n",
    "\n",
    "w, v = la.eig(df2.cov())\n",
    "A = np.matmul(np.diag(np.power(w, -0.5)), v)\n",
    "data_transformed = np.transpose(np.matmul(A, np.transpose(np.array(df2))))\n",
    "plt.scatter(data_transformed[:,0], data_transformed[:,1], c='r')"
   ]
  },
  {
   "cell_type": "markdown",
   "metadata": {
    "colab_type": "text",
    "id": "3axXcu9B5YwK"
   },
   "source": [
    "The point at (-1, 1) in the original data is more \"outling\" as is seen in the normalized data above."
   ]
  },
  {
   "cell_type": "markdown",
   "metadata": {
    "colab_type": "text",
    "id": "OS4DVETOSnR2"
   },
   "source": [
    "## 3. Even More Standard Error\n"
   ]
  },
  {
   "cell_type": "code",
   "execution_count": null,
   "metadata": {
    "colab": {
     "base_uri": "https://localhost:8080/",
     "height": 286
    },
    "colab_type": "code",
    "id": "SaId7AQUSsFy",
    "outputId": "4e94f1dd-e627-4975-e081-bce9a0712111"
   },
   "outputs": [],
   "source": [
    "from sklearn.linear_model import LinearRegression\n",
    "\n",
    "mean, variance = 0, 1\n",
    "num_of_samples = [1, 5, 10, 30, 50, 100, 300, 500]\n",
    "beta = [-3, 0]\n",
    "b1_std, b2_std = [], []\n",
    "\n",
    "# collect error samples for each n\n",
    "for n in num_of_samples:\n",
    "    error = np.empty((0, 2))\n",
    "    for i in range(1000):   \n",
    "        x_samples = np.random.normal(mean, variance, n).reshape(-1, 1)\n",
    "        noise = np.random.normal(mean, variance, n).reshape(-1, 1)\n",
    "        # generate samples of y\n",
    "        y = (beta[0] + x_samples*beta[1] + noise).reshape(-1, 1)\n",
    "\n",
    "        # create model to regress\n",
    "        model = LinearRegression(fit_intercept=True)\n",
    "        model.fit(x_samples, y)\n",
    "\n",
    "        # record beta_hat values and error\n",
    "        beta_hat = [model.intercept_[0], model.coef_[0][0]]\n",
    "        error = np.append(error, (np.array(beta_hat) - np.array(beta)).reshape(1, 2), axis=0)\n",
    "    \n",
    "    # find the std of error\n",
    "    beta0_std = np.var(error[:, 0])\n",
    "    beta1_std = np.var(error[:, 1])\n",
    "    b1_std.append(beta0_std)\n",
    "    b2_std.append(beta1_std)\n",
    "\n",
    "# plot each standard deviation\n",
    "sns.lineplot(x=num_of_samples, y=b1_std)\n",
    "x_ = np.arange(5,500)\n",
    "sns.lineplot(x=x_, y=1/(np.sqrt(x_)))\n"
   ]
  },
  {
   "cell_type": "markdown",
   "metadata": {
    "colab_type": "text",
    "id": "q7wNQr_nStGe"
   },
   "source": [
    "## 4. Names and Frequencies\n"
   ]
  },
  {
   "cell_type": "code",
   "execution_count": null,
   "metadata": {
    "colab": {
     "base_uri": "https://localhost:8080/",
     "height": 102
    },
    "colab_type": "code",
    "id": "H-WkfCzJS0Hr",
    "outputId": "d53b6799-6d2a-4b1e-b9e4-858983e205a3"
   },
   "outputs": [],
   "source": [
    "# First bullet point\n",
    "def return_top_k_names(year, k):\n",
    "    file_name = \"yob\" + str(year) + \".txt\"\n",
    "    df = pd.read_csv(file_name, sep=\",\", header=None)\n",
    "    for i in range(k):\n",
    "        print(f\"The {i+1} most popular name is: {df.iloc[i][0]}\")\n",
    "return_top_k_names(1880, 5)"
   ]
  },
  {
   "cell_type": "code",
   "execution_count": null,
   "metadata": {
    "colab": {
     "base_uri": "https://localhost:8080/",
     "height": 34
    },
    "colab_type": "code",
    "id": "Mku9YpN0UT8n",
    "outputId": "1f37f100-720e-4eee-c989-31473f1c4e60"
   },
   "outputs": [],
   "source": [
    "# Second bullet point\n",
    "# This function is kind of dirty, but I don't know enough pandas to make it better.\n",
    "def freq_men_women(name):\n",
    "    frequency_m = 0\n",
    "    frequency_f = 0\n",
    "    for i in range(1888, 2016):\n",
    "        file_name = \"yob\" + str(i) + \".txt\"\n",
    "        df = pd.read_csv(file_name, sep=\",\", header=None)\n",
    "        for i, person in enumerate(df.values[:,0]):\n",
    "            if name==person:\n",
    "                if df.iloc[i, 1] == \"F\":\n",
    "                    frequency_f += df.iloc[i, 2]\n",
    "                elif df.iloc[i, 1] == \"M\":\n",
    "                    frequency_m += df.iloc[i, 2]\n",
    "                else:\n",
    "                    print(f'{df.iloc[i, 1]}')\n",
    "    print(f'{name} occurred in {frequency_m} males and in {frequency_f} females.')\n",
    "    \n",
    "freq_men_women(\"Mary\")"
   ]
  },
  {
   "cell_type": "code",
   "execution_count": null,
   "metadata": {
    "colab": {
     "base_uri": "https://localhost:8080/",
     "height": 34
    },
    "colab_type": "code",
    "id": "v2H5jzvOZvpH",
    "outputId": "4ffa80de-99d9-4989-e004-0972ace274a1"
   },
   "outputs": [],
   "source": [
    "# Third bullet point\n",
    "def relative_freq_men_women(name):\n",
    "    frequency_m = 0\n",
    "    frequency_f = 0\n",
    "    total_m = 0\n",
    "    total_f = 0\n",
    "    for i in range(1888, 2016):\n",
    "        file_name = \"yob\" + str(i) + \".txt\"\n",
    "        df = pd.read_csv(file_name, sep=\",\", header=None)\n",
    "        for i, person in enumerate(df.values[:,0]):\n",
    "            if df.iloc[i, 1] == \"F\":\n",
    "                total_f += df.iloc[i, 2]\n",
    "            if df.iloc[i, 1] == \"M\":\n",
    "                total_m += df.iloc[i, 2]\n",
    "            if name==person:\n",
    "                if df.iloc[i, 1] == \"F\":\n",
    "                    frequency_f += df.iloc[i, 2]\n",
    "                elif df.iloc[i, 1] == \"M\":\n",
    "                    frequency_m += df.iloc[i, 2]\n",
    "                else:\n",
    "                    print(f'ERROR WT')\n",
    "    print(f'{name} occurred in {frequency_m/total_m} males and in {frequency_f/total_f} females.')\n",
    "relative_freq_men_women(\"Matt\")"
   ]
  },
  {
   "cell_type": "code",
   "execution_count": null,
   "metadata": {
    "colab": {
     "base_uri": "https://localhost:8080/",
     "height": 1000
    },
    "colab_type": "code",
    "id": "KRYnVdTegly1",
    "outputId": "aebe2395-8fec-4600-c0bb-430fdfb9c8aa"
   },
   "outputs": [],
   "source": [
    "# Fourth bullet point\n",
    "class Person:\n",
    "    def __init__(self, name, gender):\n",
    "        self.gender = gender\n",
    "        self.name = name\n",
    "    def __repr__(self):\n",
    "        return self.name\n",
    "    def __eq__(self, other):\n",
    "        return self.name == other\n",
    "    def __hash__(self):\n",
    "        return hash(self.name) # This isn't ideal.\n",
    "    def __ne__(self, other):\n",
    "        return not(self == other)\n",
    "\n",
    "def genderflops(year):\n",
    "    \"\"\"\n",
    "    Finds all names that used to be more popular for one gender since year, but then became more popular for another gender since \n",
    "    given parameter year\n",
    "    :param year: integer year, pre: 1888 <= year <= 2015\n",
    "    \"\"\"\n",
    "    # Defining dictionaries\n",
    "    names_and_frequencies_past_men = {}\n",
    "    names_and_frequencies_future_men = {}\n",
    "    names_and_frequencies_past_women = {}\n",
    "    names_and_frequencies_future_women = {}\n",
    "    \n",
    "    # Iterating through all files up to user selected year\n",
    "    for i in range(1888, year+1):\n",
    "        file_name = \"yob\" + str(i) + \".txt\"\n",
    "        df = pd.read_csv(file_name, sep=\",\", header=None)\n",
    "        for i in range(len(df.values[:, 0])):\n",
    "            sex = df.iloc[i, 1]\n",
    "            name = df.iloc[i, 0]\n",
    "            frequency = df.iloc[i, 2]\n",
    "            # Add men to mens dictionary and women to women's dictionary\n",
    "            if sex == \"M\":\n",
    "                if name in names_and_frequencies_past_men.keys():\n",
    "                    names_and_frequencies_past_men[Person(name, sex)] += frequency\n",
    "                else:\n",
    "                    names_and_frequencies_past_men[Person(name, sex)] = frequency\n",
    "            elif sex == \"F\":\n",
    "                if name in names_and_frequencies_past_women.keys():\n",
    "                    names_and_frequencies_past_women[Person(name, sex)] += frequency\n",
    "                else:\n",
    "                    names_and_frequencies_past_women[Person(name, sex)] = frequency\n",
    "    # Iterating through all files from user selected year to 2015\n",
    "    for i in range(year, 2016):\n",
    "        file_name = \"yob\" + str(i) + \".txt\"\n",
    "        df = pd.read_csv(file_name, sep=\",\", header=None)\n",
    "        for i in range(len(df.values[:, 0])):\n",
    "            sex = df.iloc[i, 1]\n",
    "            name = df.iloc[i, 0]\n",
    "            frequency = df.iloc[i, 2]\n",
    "            # Add men to mens dictionary and women to women's dictionary\n",
    "            if sex == \"M\":\n",
    "                if name in names_and_frequencies_future_men.keys():\n",
    "                    names_and_frequencies_future_men[Person(name, sex)] += frequency\n",
    "                else:\n",
    "                    names_and_frequencies_future_men[Person(name, sex)] = frequency\n",
    "            elif sex == \"F\":\n",
    "                if name in names_and_frequencies_future_women.keys():\n",
    "                    names_and_frequencies_future_women[Person(name, sex)] += frequency\n",
    "                else:\n",
    "                    names_and_frequencies_future_women[Person(name, sex)] = frequency\n",
    "                    \n",
    "    # Genderflop 1: Used to be more popular for men, then it became more popular for women\n",
    "    for past_name, past_male_frequency in names_and_frequencies_past_men.items():\n",
    "        if past_name in names_and_frequencies_past_women.keys():\n",
    "            try:\n",
    "                past_female_frequency = names_and_frequencies_past_women[past_name]\n",
    "                current_female_frequency = names_and_frequencies_future_women[past_name]\n",
    "                current_male_frequency = names_and_frequencies_future_men[past_name]\n",
    "            except KeyError:\n",
    "                continue\n",
    "            if past_male_frequency > past_female_frequency and current_female_frequency > current_male_frequency:\n",
    "                print(f'From 1888-{year}, {past_name} was more popular for men ({past_male_frequency} > {past_female_frequency}), but from {year}-2015 is more popular for women. ({current_female_frequency} > {current_male_frequency})')\n",
    "    \n",
    "    # Genderflop 2: Used to be more popular for women, then it became more popular for men\n",
    "    for past_name, past_male_frequency in names_and_frequencies_past_men.items():\n",
    "        if past_name in names_and_frequencies_past_women.keys():\n",
    "            try:\n",
    "                past_female_frequency = names_and_frequencies_past_women[past_name]\n",
    "                current_female_frequency = names_and_frequencies_future_women[past_name]\n",
    "                current_male_frequency = names_and_frequencies_future_men[past_name]\n",
    "            except KeyError:\n",
    "                continue\n",
    "            if past_female_frequency > past_male_frequency and current_male_frequency > current_female_frequency:\n",
    "                print(f'From 1888-{year}, {past_name} was more popular for women ({past_female_frequency} > {past_male_frequency}), but from {year}-2015 is more popular for men. ({current_male_frequency} > {current_female_frequency})')\n",
    "\n",
    "genderflops(1960) "
   ]
  },
  {
   "cell_type": "code",
   "execution_count": null,
   "metadata": {
    "colab": {
     "base_uri": "https://localhost:8080/",
     "height": 1000
    },
    "colab_type": "code",
    "id": "gLGsV86ea1Sy",
    "outputId": "cede8c1d-9aca-4004-b6c7-8f6f4d36270f"
   },
   "outputs": [],
   "source": [
    "# Fifth bullet point. \n",
    "# Cool stuff about the data set - seeing what became more popular \n",
    "class Person:\n",
    "    def __init__(self, name, gender):\n",
    "        self.gender = gender\n",
    "        self.name = name\n",
    "    def __repr__(self):\n",
    "        return self.name\n",
    "    def __eq__(self, other):\n",
    "        return self.name == other\n",
    "    def __hash__(self):\n",
    "        return hash(self.name + self.gender)\n",
    "    def __ne__(self, other):\n",
    "        return not(self == other)\n",
    "def past_vs_year_frequency_differences(year):\n",
    "    \"\"\"\n",
    "    Finds names that increased or decreased in frequency since given parameter year.\n",
    "    :param year: integer year, pre: 1888 <= year <= 2015\n",
    "    \"\"\"\n",
    "    names_and_frequencies_past = {}\n",
    "    names_and_frequencies_future = {}\n",
    "    for i in range(1888, year+1):\n",
    "        file_name = \"yob\" + str(i) + \".txt\"\n",
    "        df = pd.read_csv(file_name, sep=\",\", header=None)\n",
    "        for i in range(len(df.values[:, 0])):\n",
    "            sex = df.iloc[i, 1]\n",
    "            name = df.iloc[i, 0]\n",
    "            frequency = df.iloc[i, 2]\n",
    "            if name in names_and_frequencies_past.keys():\n",
    "                names_and_frequencies_past[Person(name, sex)] += frequency\n",
    "            else:\n",
    "                names_and_frequencies_past[Person(name, sex)] = frequency\n",
    "                \n",
    "    for i in range(year, 2016):\n",
    "        file_name = \"yob\" + str(i) + \".txt\"\n",
    "        df = pd.read_csv(file_name, sep=\",\", header=None)\n",
    "        for i in range(len(df.values[:, 0])):\n",
    "            sex = df.iloc[i, 1]\n",
    "            name = df.iloc[i, 0]\n",
    "            frequency = df.iloc[i, 2]\n",
    "            if name in names_and_frequencies_future.keys():\n",
    "                names_and_frequencies_future[Person(name, sex)] += frequency\n",
    "            else:\n",
    "                names_and_frequencies_future[Person(name, sex)] = frequency\n",
    "                \n",
    "    for k, v in names_and_frequencies_past.items():\n",
    "        if k in names_and_frequencies_future.keys():\n",
    "            current_val = names_and_frequencies_future[k]\n",
    "            if v > current_val:\n",
    "                print(f\"{k} occured more in the past, with past rate: {v} and current_rate {current_val}\")\n",
    "            elif v == current_val:\n",
    "                print(f\"{k} occurs at equal frequency in past and future, with past rate: {v} and current_rate {current_val}\")\n",
    "            elif v < current_val:\n",
    "                print(f\"{k} occured more in the future, with past rate: {v} and current_rate {current_val}\")\n",
    "past_vs_year_frequency_differences(1952) # approximately halfway, time-wise. doesn't account for more people being born."
   ]
  },
  {
   "cell_type": "markdown",
   "metadata": {
    "colab_type": "text",
    "id": "_1U6fw7qnmIT"
   },
   "source": [
    "## Regression and Interaction Terms"
   ]
  },
  {
   "cell_type": "code",
   "execution_count": null,
   "metadata": {
    "colab": {},
    "colab_type": "code",
    "id": "IMdIqNIbo1Z3"
   },
   "outputs": [],
   "source": [
    "from sklearn import linear_model"
   ]
  },
  {
   "cell_type": "code",
   "execution_count": null,
   "metadata": {
    "colab": {
     "base_uri": "https://localhost:8080/",
     "height": 377
    },
    "colab_type": "code",
    "id": "6IsIoThznp7f",
    "outputId": "3b6103a1-731f-47cf-c9e8-06c25d7a156e"
   },
   "outputs": [],
   "source": [
    "kidiq = pd.read_stata(\"kidiq.dta\")\n",
    "interaction_term = kidiq.as_matrix([\"mom_hs\"]) * kidiq.as_matrix([\"mom_iq\"])\n",
    "kidiq[\"mom_iq*mom_hs\"] = interaction_term\n",
    "kidiq.head(10)"
   ]
  },
  {
   "cell_type": "code",
   "execution_count": null,
   "metadata": {
    "colab": {},
    "colab_type": "code",
    "id": "ip1FhGW0pWG5"
   },
   "outputs": [],
   "source": [
    "sns.pairplot(kidiq)"
   ]
  },
  {
   "cell_type": "code",
   "execution_count": null,
   "metadata": {
    "colab": {},
    "colab_type": "code",
    "id": "rCGnyyqJnwrC"
   },
   "outputs": [],
   "source": [
    "kidiq_x_with_it = kidiq.as_matrix([\"mom_iq\",\"mom_hs\",\"mom_iq*mom_hs\"])\n",
    "kidiq_y_with_it = kidiq.as_matrix([\"kid_score\"])\n",
    "lr = linear_model.LinearRegression()\n",
    "lr.fit(kidiq_x_with_it, kidiq_y_with_it)\n",
    "kidiq_x = kidiq.as_matrix([\"mom_iq\",\"mom_hs\"])\n",
    "kidiq_y = kidiq.as_matrix([\"kid_score\"])\n",
    "lr2 = linear_model.LinearRegression()\n",
    "lr2.fit(kidiq_x, kidiq_y)"
   ]
  },
  {
   "cell_type": "code",
   "execution_count": null,
   "metadata": {
    "colab": {},
    "colab_type": "code",
    "id": "ws2Jzy97ow2G"
   },
   "outputs": [],
   "source": [
    "print(f'With the interactive term: This is the slope: {lr.coef_}. This is the intercept: {lr.intercept_}. This is the R^2: {lr.score(kidiq_x_with_it, kidiq_y_with_it)}.')\n",
    "print(f'Without the interactive term: This is the slope: {lr2.coef_}. This is the intercept: {lr2.intercept_}. This is the R^2: {lr2.score(kidiq_x, kidiq_y)}.')"
   ]
  },
  {
   "cell_type": "markdown",
   "metadata": {
    "colab_type": "text",
    "id": "Ad27etH1p6nf"
   },
   "source": [
    "The $R^2$ term with the interaction term increases from 0.214 to 0.230. That is a sign that the interaction term should be there. That means that there is a relationship between "
   ]
  },
  {
   "cell_type": "code",
   "execution_count": null,
   "metadata": {
    "colab": {},
    "colab_type": "code",
    "id": "XGUOIOnmqU3O"
   },
   "outputs": [],
   "source": [
    "x = kidiq.values[:,2]\n",
    "y = kidiq.values[:,0]\n",
    "m1 = lr.coef_[0][0]\n",
    "b1 = lr.intercept_\n",
    "m2 = lr2.coef_[0][0]\n",
    "b2 = lr2.intercept_\n",
    "plt.scatter(x, y)\n",
    "plt.plot(x, m1*x+b1, '-',c='g')\n",
    "plt.plot(x, m2*x+b2, '-', c='r')\n",
    "plt.xlabel(\"Mom IQ\")\n",
    "plt.ylabel(\"Kid Score\")\n",
    "plt.title(\"Mom IQ vs. Kid Score\")"
   ]
  },
  {
   "cell_type": "markdown",
   "metadata": {
    "colab_type": "text",
    "id": "UarZ7xNY6XaL"
   },
   "source": [
    "We can see a visualization of the linear regressions using the green and red line. The green line comes from the model with the interaction term, whereas the red line comes from model without the interaction term. \n",
    "\n",
    "The green line seems to be a better fit, further suggesting that the interaction term should be there."
   ]
  }
 ],
 "metadata": {
  "colab": {
   "collapsed_sections": [],
   "name": "Lab 2.ipynb",
   "provenance": [],
   "toc_visible": true,
   "version": "0.3.2"
  },
  "kernelspec": {
   "display_name": "Python 3",
   "language": "python",
   "name": "python3"
  },
  "language_info": {
   "codemirror_mode": {
    "name": "ipython",
    "version": 3
   },
   "file_extension": ".py",
   "mimetype": "text/x-python",
   "name": "python",
   "nbconvert_exporter": "python",
   "pygments_lexer": "ipython3",
   "version": "3.7.4"
  }
 },
 "nbformat": 4,
 "nbformat_minor": 1
}
